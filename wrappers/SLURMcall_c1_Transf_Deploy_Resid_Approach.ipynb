{
 "cells": [
  {
   "cell_type": "markdown",
   "id": "organic-battle",
   "metadata": {},
   "source": [
    "# Run `MTMCSKAT` over *in vitro* transformation GWAS data using residual traits regressed over phase data"
   ]
  },
  {
   "cell_type": "markdown",
   "id": "statistical-nigeria",
   "metadata": {},
   "source": [
    "This batch is for versions of traits that have been processed by regressing over phase covariates (with `lm`) and collecting residuals. The only covariates used in the SKAT model will be for PCs... no need to include phase covariate data again after regresing over it and collecting residuals."
   ]
  },
  {
   "cell_type": "markdown",
   "id": "outstanding-tumor",
   "metadata": {},
   "source": [
    "We are testing this approach alongside the three other approaches to controlling for phase (in notebook b6pt1)"
   ]
  },
  {
   "cell_type": "markdown",
   "id": "accepted-reason",
   "metadata": {},
   "source": [
    "We are trying to employ the approach described here https://vsoch.github.io/lessons/sherlock-jobs/"
   ]
  },
  {
   "cell_type": "code",
   "execution_count": 1,
   "id": "specific-warehouse",
   "metadata": {},
   "outputs": [],
   "source": [
    "library(stringr)"
   ]
  },
  {
   "cell_type": "markdown",
   "id": "activated-elements",
   "metadata": {},
   "source": [
    "## Make a short list of phenotypes to test"
   ]
  },
  {
   "cell_type": "code",
   "execution_count": 2,
   "id": "polyphonic-scale",
   "metadata": {},
   "outputs": [],
   "source": [
    "pheno_list <- list.files(\"SKAT_pheno_files_first_05to08/\",\n",
    "                         pattern = \"resid\\\\.header\",\n",
    "                         #pattern = \"w\\\\.header\",\n",
    "                         full.names = TRUE)"
   ]
  },
  {
   "cell_type": "code",
   "execution_count": 3,
   "id": "greek-street",
   "metadata": {},
   "outputs": [
    {
     "data": {
      "text/html": [
       "<style>\n",
       ".list-inline {list-style: none; margin:0; padding: 0}\n",
       ".list-inline>li {display: inline-block}\n",
       ".list-inline>li:not(:last-child)::after {content: \"\\00b7\"; padding: 0 .5ex}\n",
       "</style>\n",
       "<ol class=list-inline><li>'SKAT_pheno_files_first_05to08//Total_signif_pixels_Shoot_CTR_wk10_resid.header.pheno'</li><li>'SKAT_pheno_files_first_05to08//callus_transformation_PC1-uv_resid.header.pheno'</li><li>'SKAT_pheno_files_first_05to08//portion_transgenic_Shoot_AS_wk10_resid.header.pheno'</li><li>'SKAT_pheno_files_first_05to08//portion_transgenic_Shoot_AS_wk7_resid.header.pheno'</li><li>'SKAT_pheno_files_first_05to08//shoot_transformation_PC2-uv_resid.header.pheno'</li></ol>\n"
      ],
      "text/latex": [
       "\\begin{enumerate*}\n",
       "\\item 'SKAT\\_pheno\\_files\\_first\\_05to08//Total\\_signif\\_pixels\\_Shoot\\_CTR\\_wk10\\_resid.header.pheno'\n",
       "\\item 'SKAT\\_pheno\\_files\\_first\\_05to08//callus\\_transformation\\_PC1-uv\\_resid.header.pheno'\n",
       "\\item 'SKAT\\_pheno\\_files\\_first\\_05to08//portion\\_transgenic\\_Shoot\\_AS\\_wk10\\_resid.header.pheno'\n",
       "\\item 'SKAT\\_pheno\\_files\\_first\\_05to08//portion\\_transgenic\\_Shoot\\_AS\\_wk7\\_resid.header.pheno'\n",
       "\\item 'SKAT\\_pheno\\_files\\_first\\_05to08//shoot\\_transformation\\_PC2-uv\\_resid.header.pheno'\n",
       "\\end{enumerate*}\n"
      ],
      "text/markdown": [
       "1. 'SKAT_pheno_files_first_05to08//Total_signif_pixels_Shoot_CTR_wk10_resid.header.pheno'\n",
       "2. 'SKAT_pheno_files_first_05to08//callus_transformation_PC1-uv_resid.header.pheno'\n",
       "3. 'SKAT_pheno_files_first_05to08//portion_transgenic_Shoot_AS_wk10_resid.header.pheno'\n",
       "4. 'SKAT_pheno_files_first_05to08//portion_transgenic_Shoot_AS_wk7_resid.header.pheno'\n",
       "5. 'SKAT_pheno_files_first_05to08//shoot_transformation_PC2-uv_resid.header.pheno'\n",
       "\n",
       "\n"
      ],
      "text/plain": [
       "[1] \"SKAT_pheno_files_first_05to08//Total_signif_pixels_Shoot_CTR_wk10_resid.header.pheno\"\n",
       "[2] \"SKAT_pheno_files_first_05to08//callus_transformation_PC1-uv_resid.header.pheno\"      \n",
       "[3] \"SKAT_pheno_files_first_05to08//portion_transgenic_Shoot_AS_wk10_resid.header.pheno\"  \n",
       "[4] \"SKAT_pheno_files_first_05to08//portion_transgenic_Shoot_AS_wk7_resid.header.pheno\"   \n",
       "[5] \"SKAT_pheno_files_first_05to08//shoot_transformation_PC2-uv_resid.header.pheno\"       "
      ]
     },
     "metadata": {},
     "output_type": "display_data"
    }
   ],
   "source": [
    "pheno_list"
   ]
  },
  {
   "cell_type": "code",
   "execution_count": 4,
   "id": "welcome-crossing",
   "metadata": {},
   "outputs": [
    {
     "data": {
      "text/html": [
       "5"
      ],
      "text/latex": [
       "5"
      ],
      "text/markdown": [
       "5"
      ],
      "text/plain": [
       "[1] 5"
      ]
     },
     "metadata": {},
     "output_type": "display_data"
    }
   ],
   "source": [
    "length(pheno_list)"
   ]
  },
  {
   "cell_type": "markdown",
   "id": "funny-luxembourg",
   "metadata": {},
   "source": [
    "## Make a list of scaffolds to test"
   ]
  },
  {
   "cell_type": "code",
   "execution_count": 5,
   "id": "dated-struggle",
   "metadata": {},
   "outputs": [],
   "source": [
    "scaffold_list <- list.files(\"split_Chr_2to8parts/\",\n",
    "                            full.names = TRUE)"
   ]
  },
  {
   "cell_type": "markdown",
   "id": "conceptual-suicide",
   "metadata": {},
   "source": [
    "## Make a short list of covariate files to test"
   ]
  },
  {
   "cell_type": "markdown",
   "id": "geographic-authority",
   "metadata": {},
   "source": [
    "I think SKAT just automatically ignores redundancies so singular matrix is ok"
   ]
  },
  {
   "cell_type": "code",
   "execution_count": 6,
   "id": "charitable-boards",
   "metadata": {},
   "outputs": [],
   "source": [
    "covariate_list <- list.files(\"covariates_in_vitro\",\n",
    "                             full.names = TRUE)"
   ]
  },
  {
   "cell_type": "code",
   "execution_count": 7,
   "id": "common-bones",
   "metadata": {},
   "outputs": [
    {
     "data": {
      "text/html": [
       "<style>\n",
       ".list-inline {list-style: none; margin:0; padding: 0}\n",
       ".list-inline>li {display: inline-block}\n",
       ".list-inline>li:not(:last-child)::after {content: \"\\00b7\"; padding: 0 .5ex}\n",
       "</style>\n",
       "<ol class=list-inline><li>'covariates_in_vitro/PConly.skatcov'</li><li>'covariates_in_vitro/PseudoSeasonPhaseIndicatorAndPC.skatcov'</li><li>'covariates_in_vitro/SeasonPhaseIndicatorAndPC.skatcov'</li></ol>\n"
      ],
      "text/latex": [
       "\\begin{enumerate*}\n",
       "\\item 'covariates\\_in\\_vitro/PConly.skatcov'\n",
       "\\item 'covariates\\_in\\_vitro/PseudoSeasonPhaseIndicatorAndPC.skatcov'\n",
       "\\item 'covariates\\_in\\_vitro/SeasonPhaseIndicatorAndPC.skatcov'\n",
       "\\end{enumerate*}\n"
      ],
      "text/markdown": [
       "1. 'covariates_in_vitro/PConly.skatcov'\n",
       "2. 'covariates_in_vitro/PseudoSeasonPhaseIndicatorAndPC.skatcov'\n",
       "3. 'covariates_in_vitro/SeasonPhaseIndicatorAndPC.skatcov'\n",
       "\n",
       "\n"
      ],
      "text/plain": [
       "[1] \"covariates_in_vitro/PConly.skatcov\"                         \n",
       "[2] \"covariates_in_vitro/PseudoSeasonPhaseIndicatorAndPC.skatcov\"\n",
       "[3] \"covariates_in_vitro/SeasonPhaseIndicatorAndPC.skatcov\"      "
      ]
     },
     "metadata": {},
     "output_type": "display_data"
    }
   ],
   "source": [
    "covariate_list"
   ]
  },
  {
   "cell_type": "code",
   "execution_count": 8,
   "id": "arctic-quarterly",
   "metadata": {},
   "outputs": [],
   "source": [
    "library(data.table)"
   ]
  },
  {
   "cell_type": "code",
   "execution_count": 1,
   "id": "acoustic-container",
   "metadata": {
    "tags": []
   },
   "outputs": [],
   "source": [
    "# fread(covariate_list[1])"
   ]
  },
  {
   "cell_type": "markdown",
   "id": "valuable-richards",
   "metadata": {},
   "source": [
    "For traits processed by regressing over phase covariate and collecting residuals, only use PC covariates."
   ]
  },
  {
   "cell_type": "code",
   "execution_count": 10,
   "id": "vertical-queens",
   "metadata": {},
   "outputs": [],
   "source": [
    "covariate_list <- covariate_list[1]"
   ]
  },
  {
   "cell_type": "markdown",
   "id": "clean-coaching",
   "metadata": {},
   "source": [
    "## Define this function `baseprefix`"
   ]
  },
  {
   "cell_type": "code",
   "execution_count": 11,
   "id": "compound-handle",
   "metadata": {},
   "outputs": [],
   "source": [
    "baseprefix <- function(filename){\n",
    "    filename <- basename(filename)\n",
    "    filename <- unlist(str_split(filename, \"\\\\.\"))[1]\n",
    "    return(filename)\n",
    "}"
   ]
  },
  {
   "cell_type": "markdown",
   "id": "purple-stuff",
   "metadata": {},
   "source": [
    "## Declare other key variables"
   ]
  },
  {
   "cell_type": "code",
   "execution_count": 12,
   "id": "instructional-moses",
   "metadata": {},
   "outputs": [],
   "source": [
    "if(!dir.exists(\"/expanse/lustre/projects/osu123/naglemi/SKAT_testing/Results_transfGWAS/\")){\n",
    "    dir.create(\"/expanse/lustre/projects/osu123/naglemi/SKAT_testing/Results_transfGWAS/\")\n",
    "}"
   ]
  },
  {
   "cell_type": "code",
   "execution_count": 13,
   "id": "seeing-construction",
   "metadata": {},
   "outputs": [],
   "source": [
    "window_size <- 3000\n",
    "window_shift <- 1000\n",
    "output_dir <- \"/expanse/lustre/projects/osu123/naglemi/SKAT_testing/Results_transfGWAS/\"\n",
    "pre_allocated_dir <- \"/expanse/lustre/projects/osu123/naglemi/SKAT_testing/new_pre_allocated\"\n",
    "\n",
    "desired_sig_figs <- 2\n",
    "min_accuracy <- 4\n",
    "max_accuracy <- 5\n",
    "plot <- 1\n",
    "n_thread <- 24\n",
    "top_N <- 2\n",
    "missing_cutoff <- 0.15\n",
    "\n",
    "project <- \"osu123\"\n",
    "\n",
    "myenv <- \"farmcpupp\"\n",
    "\n",
    "source_path <- \"/expanse/lustre/projects/osu123/naglemi/SKAT_testing/mtmcskat\""
   ]
  },
  {
   "cell_type": "markdown",
   "id": "working-identity",
   "metadata": {},
   "source": [
    "## Prepare (and submit) job files in a loop"
   ]
  },
  {
   "cell_type": "code",
   "execution_count": 14,
   "id": "attended-scanning",
   "metadata": {},
   "outputs": [
    {
     "data": {
      "text/html": [
       "<style>\n",
       ".list-inline {list-style: none; margin:0; padding: 0}\n",
       ".list-inline>li {display: inline-block}\n",
       ".list-inline>li:not(:last-child)::after {content: \"\\00b7\"; padding: 0 .5ex}\n",
       "</style>\n",
       "<ol class=list-inline><li>'SKAT_pheno_files_first_05to08//Total_signif_pixels_Shoot_CTR_wk10_resid.header.pheno'</li><li>'SKAT_pheno_files_first_05to08//callus_transformation_PC1-uv_resid.header.pheno'</li><li>'SKAT_pheno_files_first_05to08//portion_transgenic_Shoot_AS_wk10_resid.header.pheno'</li><li>'SKAT_pheno_files_first_05to08//portion_transgenic_Shoot_AS_wk7_resid.header.pheno'</li><li>'SKAT_pheno_files_first_05to08//shoot_transformation_PC2-uv_resid.header.pheno'</li></ol>\n"
      ],
      "text/latex": [
       "\\begin{enumerate*}\n",
       "\\item 'SKAT\\_pheno\\_files\\_first\\_05to08//Total\\_signif\\_pixels\\_Shoot\\_CTR\\_wk10\\_resid.header.pheno'\n",
       "\\item 'SKAT\\_pheno\\_files\\_first\\_05to08//callus\\_transformation\\_PC1-uv\\_resid.header.pheno'\n",
       "\\item 'SKAT\\_pheno\\_files\\_first\\_05to08//portion\\_transgenic\\_Shoot\\_AS\\_wk10\\_resid.header.pheno'\n",
       "\\item 'SKAT\\_pheno\\_files\\_first\\_05to08//portion\\_transgenic\\_Shoot\\_AS\\_wk7\\_resid.header.pheno'\n",
       "\\item 'SKAT\\_pheno\\_files\\_first\\_05to08//shoot\\_transformation\\_PC2-uv\\_resid.header.pheno'\n",
       "\\end{enumerate*}\n"
      ],
      "text/markdown": [
       "1. 'SKAT_pheno_files_first_05to08//Total_signif_pixels_Shoot_CTR_wk10_resid.header.pheno'\n",
       "2. 'SKAT_pheno_files_first_05to08//callus_transformation_PC1-uv_resid.header.pheno'\n",
       "3. 'SKAT_pheno_files_first_05to08//portion_transgenic_Shoot_AS_wk10_resid.header.pheno'\n",
       "4. 'SKAT_pheno_files_first_05to08//portion_transgenic_Shoot_AS_wk7_resid.header.pheno'\n",
       "5. 'SKAT_pheno_files_first_05to08//shoot_transformation_PC2-uv_resid.header.pheno'\n",
       "\n",
       "\n"
      ],
      "text/plain": [
       "[1] \"SKAT_pheno_files_first_05to08//Total_signif_pixels_Shoot_CTR_wk10_resid.header.pheno\"\n",
       "[2] \"SKAT_pheno_files_first_05to08//callus_transformation_PC1-uv_resid.header.pheno\"      \n",
       "[3] \"SKAT_pheno_files_first_05to08//portion_transgenic_Shoot_AS_wk10_resid.header.pheno\"  \n",
       "[4] \"SKAT_pheno_files_first_05to08//portion_transgenic_Shoot_AS_wk7_resid.header.pheno\"   \n",
       "[5] \"SKAT_pheno_files_first_05to08//shoot_transformation_PC2-uv_resid.header.pheno\"       "
      ]
     },
     "metadata": {},
     "output_type": "display_data"
    }
   ],
   "source": [
    "pheno_list"
   ]
  },
  {
   "cell_type": "code",
   "execution_count": 15,
   "id": "working-foster",
   "metadata": {},
   "outputs": [
    {
     "data": {
      "text/html": [
       "'covariates_in_vitro/PConly.skatcov'"
      ],
      "text/latex": [
       "'covariates\\_in\\_vitro/PConly.skatcov'"
      ],
      "text/markdown": [
       "'covariates_in_vitro/PConly.skatcov'"
      ],
      "text/plain": [
       "[1] \"covariates_in_vitro/PConly.skatcov\""
      ]
     },
     "metadata": {},
     "output_type": "display_data"
    }
   ],
   "source": [
    "covariate_list"
   ]
  },
  {
   "cell_type": "code",
   "execution_count": 16,
   "id": "assured-criticism",
   "metadata": {},
   "outputs": [
    {
     "data": {
      "text/html": [
       "52"
      ],
      "text/latex": [
       "52"
      ],
      "text/markdown": [
       "52"
      ],
      "text/plain": [
       "[1] 52"
      ]
     },
     "metadata": {},
     "output_type": "display_data"
    }
   ],
   "source": [
    "length(scaffold_list)"
   ]
  },
  {
   "cell_type": "code",
   "execution_count": 18,
   "id": "ranking-vatican",
   "metadata": {
    "tags": []
   },
   "outputs": [
    {
     "name": "stderr",
     "output_type": "stream",
     "text": [
      "There already exists output for /expanse/lustre/projects/osu123/naglemi/SKAT_testing/Results_transfGWAS//job-Total_signif_pixels_Shoot_CTR_wk10_resid-1323_cohort_mincount1_defaultmissingrates_Chr10Pt1of2-PConly/pheno-Total_signif_pixels_Shoot_CTR_wk10_resid.header.pheno-scaff-1323_cohort_mincount1_defaultmissingrates_Chr10Pt1of2.snp.pass.traw.gz.csv\n",
      "We will skip this\n",
      "\n",
      "There already exists output for /expanse/lustre/projects/osu123/naglemi/SKAT_testing/Results_transfGWAS//job-Total_signif_pixels_Shoot_CTR_wk10_resid-1323_cohort_mincount1_defaultmissingrates_Chr10Pt2of2-PConly/pheno-Total_signif_pixels_Shoot_CTR_wk10_resid.header.pheno-scaff-1323_cohort_mincount1_defaultmissingrates_Chr10Pt2of2.snp.pass.traw.gz.csv\n",
      "We will skip this\n",
      "\n",
      "There already exists output for /expanse/lustre/projects/osu123/naglemi/SKAT_testing/Results_transfGWAS//job-Total_signif_pixels_Shoot_CTR_wk10_resid-1323_cohort_mincount1_defaultmissingrates_Chr11Pt1of2-PConly/pheno-Total_signif_pixels_Shoot_CTR_wk10_resid.header.pheno-scaff-1323_cohort_mincount1_defaultmissingrates_Chr11Pt1of2.snp.pass.traw.gz.csv\n",
      "We will skip this\n",
      "\n",
      "There already exists output for /expanse/lustre/projects/osu123/naglemi/SKAT_testing/Results_transfGWAS//job-Total_signif_pixels_Shoot_CTR_wk10_resid-1323_cohort_mincount1_defaultmissingrates_Chr11Pt2of2-PConly/pheno-Total_signif_pixels_Shoot_CTR_wk10_resid.header.pheno-scaff-1323_cohort_mincount1_defaultmissingrates_Chr11Pt2of2.snp.pass.traw.gz.csv\n",
      "We will skip this\n",
      "\n",
      "There already exists output for /expanse/lustre/projects/osu123/naglemi/SKAT_testing/Results_transfGWAS//job-Total_signif_pixels_Shoot_CTR_wk10_resid-1323_cohort_mincount1_defaultmissingrates_Chr12Pt1of2-PConly/pheno-Total_signif_pixels_Shoot_CTR_wk10_resid.header.pheno-scaff-1323_cohort_mincount1_defaultmissingrates_Chr12Pt1of2.snp.pass.traw.gz.csv\n",
      "We will skip this\n",
      "\n",
      "There already exists output for /expanse/lustre/projects/osu123/naglemi/SKAT_testing/Results_transfGWAS//job-Total_signif_pixels_Shoot_CTR_wk10_resid-1323_cohort_mincount1_defaultmissingrates_Chr12Pt2of2-PConly/pheno-Total_signif_pixels_Shoot_CTR_wk10_resid.header.pheno-scaff-1323_cohort_mincount1_defaultmissingrates_Chr12Pt2of2.snp.pass.traw.gz.csv\n",
      "We will skip this\n",
      "\n",
      "There already exists output for /expanse/lustre/projects/osu123/naglemi/SKAT_testing/Results_transfGWAS//job-Total_signif_pixels_Shoot_CTR_wk10_resid-1323_cohort_mincount1_defaultmissingrates_Chr13Pt1of2-PConly/pheno-Total_signif_pixels_Shoot_CTR_wk10_resid.header.pheno-scaff-1323_cohort_mincount1_defaultmissingrates_Chr13Pt1of2.snp.pass.traw.gz.csv\n",
      "We will skip this\n",
      "\n",
      "There already exists output for /expanse/lustre/projects/osu123/naglemi/SKAT_testing/Results_transfGWAS//job-Total_signif_pixels_Shoot_CTR_wk10_resid-1323_cohort_mincount1_defaultmissingrates_Chr13Pt2of2-PConly/pheno-Total_signif_pixels_Shoot_CTR_wk10_resid.header.pheno-scaff-1323_cohort_mincount1_defaultmissingrates_Chr13Pt2of2.snp.pass.traw.gz.csv\n",
      "We will skip this\n",
      "\n",
      "There already exists output for /expanse/lustre/projects/osu123/naglemi/SKAT_testing/Results_transfGWAS//job-Total_signif_pixels_Shoot_CTR_wk10_resid-1323_cohort_mincount1_defaultmissingrates_Chr14Pt1of2-PConly/pheno-Total_signif_pixels_Shoot_CTR_wk10_resid.header.pheno-scaff-1323_cohort_mincount1_defaultmissingrates_Chr14Pt1of2.snp.pass.traw.gz.csv\n",
      "We will skip this\n",
      "\n",
      "There already exists output for /expanse/lustre/projects/osu123/naglemi/SKAT_testing/Results_transfGWAS//job-Total_signif_pixels_Shoot_CTR_wk10_resid-1323_cohort_mincount1_defaultmissingrates_Chr14Pt2of2-PConly/pheno-Total_signif_pixels_Shoot_CTR_wk10_resid.header.pheno-scaff-1323_cohort_mincount1_defaultmissingrates_Chr14Pt2of2.snp.pass.traw.gz.csv\n",
      "We will skip this\n",
      "\n",
      "There already exists output for /expanse/lustre/projects/osu123/naglemi/SKAT_testing/Results_transfGWAS//job-Total_signif_pixels_Shoot_CTR_wk10_resid-1323_cohort_mincount1_defaultmissingrates_Chr15Pt1of2-PConly/pheno-Total_signif_pixels_Shoot_CTR_wk10_resid.header.pheno-scaff-1323_cohort_mincount1_defaultmissingrates_Chr15Pt1of2.snp.pass.traw.gz.csv\n",
      "We will skip this\n",
      "\n",
      "There already exists output for /expanse/lustre/projects/osu123/naglemi/SKAT_testing/Results_transfGWAS//job-Total_signif_pixels_Shoot_CTR_wk10_resid-1323_cohort_mincount1_defaultmissingrates_Chr15Pt2of2-PConly/pheno-Total_signif_pixels_Shoot_CTR_wk10_resid.header.pheno-scaff-1323_cohort_mincount1_defaultmissingrates_Chr15Pt2of2.snp.pass.traw.gz.csv\n",
      "We will skip this\n",
      "\n",
      "There already exists output for /expanse/lustre/projects/osu123/naglemi/SKAT_testing/Results_transfGWAS//job-Total_signif_pixels_Shoot_CTR_wk10_resid-1323_cohort_mincount1_defaultmissingrates_Chr16Pt1of2-PConly/pheno-Total_signif_pixels_Shoot_CTR_wk10_resid.header.pheno-scaff-1323_cohort_mincount1_defaultmissingrates_Chr16Pt1of2.snp.pass.traw.gz.csv\n",
      "We will skip this\n",
      "\n",
      "There already exists output for /expanse/lustre/projects/osu123/naglemi/SKAT_testing/Results_transfGWAS//job-Total_signif_pixels_Shoot_CTR_wk10_resid-1323_cohort_mincount1_defaultmissingrates_Chr16Pt2of2-PConly/pheno-Total_signif_pixels_Shoot_CTR_wk10_resid.header.pheno-scaff-1323_cohort_mincount1_defaultmissingrates_Chr16Pt2of2.snp.pass.traw.gz.csv\n",
      "We will skip this\n",
      "\n",
      "There already exists output for /expanse/lustre/projects/osu123/naglemi/SKAT_testing/Results_transfGWAS//job-Total_signif_pixels_Shoot_CTR_wk10_resid-1323_cohort_mincount1_defaultmissingrates_Chr17Pt1of2-PConly/pheno-Total_signif_pixels_Shoot_CTR_wk10_resid.header.pheno-scaff-1323_cohort_mincount1_defaultmissingrates_Chr17Pt1of2.snp.pass.traw.gz.csv\n",
      "We will skip this\n",
      "\n",
      "There already exists output for /expanse/lustre/projects/osu123/naglemi/SKAT_testing/Results_transfGWAS//job-Total_signif_pixels_Shoot_CTR_wk10_resid-1323_cohort_mincount1_defaultmissingrates_Chr17Pt2of2-PConly/pheno-Total_signif_pixels_Shoot_CTR_wk10_resid.header.pheno-scaff-1323_cohort_mincount1_defaultmissingrates_Chr17Pt2of2.snp.pass.traw.gz.csv\n",
      "We will skip this\n",
      "\n",
      "There already exists output for /expanse/lustre/projects/osu123/naglemi/SKAT_testing/Results_transfGWAS//job-Total_signif_pixels_Shoot_CTR_wk10_resid-1323_cohort_mincount1_defaultmissingrates_Chr18Pt1of2-PConly/pheno-Total_signif_pixels_Shoot_CTR_wk10_resid.header.pheno-scaff-1323_cohort_mincount1_defaultmissingrates_Chr18Pt1of2.snp.pass.traw.gz.csv\n",
      "We will skip this\n",
      "\n",
      "There already exists output for /expanse/lustre/projects/osu123/naglemi/SKAT_testing/Results_transfGWAS//job-Total_signif_pixels_Shoot_CTR_wk10_resid-1323_cohort_mincount1_defaultmissingrates_Chr18Pt2of2-PConly/pheno-Total_signif_pixels_Shoot_CTR_wk10_resid.header.pheno-scaff-1323_cohort_mincount1_defaultmissingrates_Chr18Pt2of2.snp.pass.traw.gz.csv\n",
      "We will skip this\n",
      "\n",
      "There already exists output for /expanse/lustre/projects/osu123/naglemi/SKAT_testing/Results_transfGWAS//job-Total_signif_pixels_Shoot_CTR_wk10_resid-1323_cohort_mincount1_defaultmissingrates_Chr19Pt1of2-PConly/pheno-Total_signif_pixels_Shoot_CTR_wk10_resid.header.pheno-scaff-1323_cohort_mincount1_defaultmissingrates_Chr19Pt1of2.snp.pass.traw.gz.csv\n",
      "We will skip this\n",
      "\n",
      "There already exists output for /expanse/lustre/projects/osu123/naglemi/SKAT_testing/Results_transfGWAS//job-Total_signif_pixels_Shoot_CTR_wk10_resid-1323_cohort_mincount1_defaultmissingrates_Chr19Pt2of2-PConly/pheno-Total_signif_pixels_Shoot_CTR_wk10_resid.header.pheno-scaff-1323_cohort_mincount1_defaultmissingrates_Chr19Pt2of2.snp.pass.traw.gz.csv\n",
      "We will skip this\n",
      "\n",
      "There already exists output for /expanse/lustre/projects/osu123/naglemi/SKAT_testing/Results_transfGWAS//job-Total_signif_pixels_Shoot_CTR_wk10_resid-1323_cohort_mincount1_defaultmissingrates_Chr1Pt1of8-PConly/pheno-Total_signif_pixels_Shoot_CTR_wk10_resid.header.pheno-scaff-1323_cohort_mincount1_defaultmissingrates_Chr1Pt1of8.snp.pass.traw.gz.csv\n",
      "We will skip this\n",
      "\n",
      "There already exists output for /expanse/lustre/projects/osu123/naglemi/SKAT_testing/Results_transfGWAS//job-Total_signif_pixels_Shoot_CTR_wk10_resid-1323_cohort_mincount1_defaultmissingrates_Chr1Pt2of8-PConly/pheno-Total_signif_pixels_Shoot_CTR_wk10_resid.header.pheno-scaff-1323_cohort_mincount1_defaultmissingrates_Chr1Pt2of8.snp.pass.traw.gz.csv\n",
      "We will skip this\n",
      "\n",
      "There already exists output for /expanse/lustre/projects/osu123/naglemi/SKAT_testing/Results_transfGWAS//job-Total_signif_pixels_Shoot_CTR_wk10_resid-1323_cohort_mincount1_defaultmissingrates_Chr1Pt3of8-PConly/pheno-Total_signif_pixels_Shoot_CTR_wk10_resid.header.pheno-scaff-1323_cohort_mincount1_defaultmissingrates_Chr1Pt3of8.snp.pass.traw.gz.csv\n",
      "We will skip this\n",
      "\n",
      "There already exists output for /expanse/lustre/projects/osu123/naglemi/SKAT_testing/Results_transfGWAS//job-Total_signif_pixels_Shoot_CTR_wk10_resid-1323_cohort_mincount1_defaultmissingrates_Chr1Pt4of8-PConly/pheno-Total_signif_pixels_Shoot_CTR_wk10_resid.header.pheno-scaff-1323_cohort_mincount1_defaultmissingrates_Chr1Pt4of8.snp.pass.traw.gz.csv\n",
      "We will skip this\n",
      "\n",
      "There already exists output for /expanse/lustre/projects/osu123/naglemi/SKAT_testing/Results_transfGWAS//job-Total_signif_pixels_Shoot_CTR_wk10_resid-1323_cohort_mincount1_defaultmissingrates_Chr1Pt5of8-PConly/pheno-Total_signif_pixels_Shoot_CTR_wk10_resid.header.pheno-scaff-1323_cohort_mincount1_defaultmissingrates_Chr1Pt5of8.snp.pass.traw.gz.csv\n",
      "We will skip this\n",
      "\n",
      "There already exists output for /expanse/lustre/projects/osu123/naglemi/SKAT_testing/Results_transfGWAS//job-Total_signif_pixels_Shoot_CTR_wk10_resid-1323_cohort_mincount1_defaultmissingrates_Chr1Pt6of8-PConly/pheno-Total_signif_pixels_Shoot_CTR_wk10_resid.header.pheno-scaff-1323_cohort_mincount1_defaultmissingrates_Chr1Pt6of8.snp.pass.traw.gz.csv\n",
      "We will skip this\n",
      "\n",
      "There already exists output for /expanse/lustre/projects/osu123/naglemi/SKAT_testing/Results_transfGWAS//job-Total_signif_pixels_Shoot_CTR_wk10_resid-1323_cohort_mincount1_defaultmissingrates_Chr1Pt7of8-PConly/pheno-Total_signif_pixels_Shoot_CTR_wk10_resid.header.pheno-scaff-1323_cohort_mincount1_defaultmissingrates_Chr1Pt7of8.snp.pass.traw.gz.csv\n",
      "We will skip this\n",
      "\n",
      "There already exists output for /expanse/lustre/projects/osu123/naglemi/SKAT_testing/Results_transfGWAS//job-Total_signif_pixels_Shoot_CTR_wk10_resid-1323_cohort_mincount1_defaultmissingrates_Chr1Pt8of8-PConly/pheno-Total_signif_pixels_Shoot_CTR_wk10_resid.header.pheno-scaff-1323_cohort_mincount1_defaultmissingrates_Chr1Pt8of8.snp.pass.traw.gz.csv\n",
      "We will skip this\n",
      "\n",
      "There already exists output for /expanse/lustre/projects/osu123/naglemi/SKAT_testing/Results_transfGWAS//job-Total_signif_pixels_Shoot_CTR_wk10_resid-1323_cohort_mincount1_defaultmissingrates_Chr2Pt1of4-PConly/pheno-Total_signif_pixels_Shoot_CTR_wk10_resid.header.pheno-scaff-1323_cohort_mincount1_defaultmissingrates_Chr2Pt1of4.snp.pass.traw.gz.csv\n",
      "We will skip this\n",
      "\n",
      "There already exists output for /expanse/lustre/projects/osu123/naglemi/SKAT_testing/Results_transfGWAS//job-Total_signif_pixels_Shoot_CTR_wk10_resid-1323_cohort_mincount1_defaultmissingrates_Chr2Pt2of4-PConly/pheno-Total_signif_pixels_Shoot_CTR_wk10_resid.header.pheno-scaff-1323_cohort_mincount1_defaultmissingrates_Chr2Pt2of4.snp.pass.traw.gz.csv\n",
      "We will skip this\n",
      "\n",
      "There already exists output for /expanse/lustre/projects/osu123/naglemi/SKAT_testing/Results_transfGWAS//job-Total_signif_pixels_Shoot_CTR_wk10_resid-1323_cohort_mincount1_defaultmissingrates_Chr2Pt3of4-PConly/pheno-Total_signif_pixels_Shoot_CTR_wk10_resid.header.pheno-scaff-1323_cohort_mincount1_defaultmissingrates_Chr2Pt3of4.snp.pass.traw.gz.csv\n",
      "We will skip this\n",
      "\n",
      "There already exists output for /expanse/lustre/projects/osu123/naglemi/SKAT_testing/Results_transfGWAS//job-Total_signif_pixels_Shoot_CTR_wk10_resid-1323_cohort_mincount1_defaultmissingrates_Chr2Pt4of4-PConly/pheno-Total_signif_pixels_Shoot_CTR_wk10_resid.header.pheno-scaff-1323_cohort_mincount1_defaultmissingrates_Chr2Pt4of4.snp.pass.traw.gz.csv\n",
      "We will skip this\n",
      "\n",
      "There already exists output for /expanse/lustre/projects/osu123/naglemi/SKAT_testing/Results_transfGWAS//job-Total_signif_pixels_Shoot_CTR_wk10_resid-1323_cohort_mincount1_defaultmissingrates_Chr3Pt1of2-PConly/pheno-Total_signif_pixels_Shoot_CTR_wk10_resid.header.pheno-scaff-1323_cohort_mincount1_defaultmissingrates_Chr3Pt1of2.snp.pass.traw.gz.csv\n",
      "We will skip this\n",
      "\n",
      "There already exists output for /expanse/lustre/projects/osu123/naglemi/SKAT_testing/Results_transfGWAS//job-Total_signif_pixels_Shoot_CTR_wk10_resid-1323_cohort_mincount1_defaultmissingrates_Chr3Pt2of2-PConly/pheno-Total_signif_pixels_Shoot_CTR_wk10_resid.header.pheno-scaff-1323_cohort_mincount1_defaultmissingrates_Chr3Pt2of2.snp.pass.traw.gz.csv\n",
      "We will skip this\n",
      "\n",
      "There already exists output for /expanse/lustre/projects/osu123/naglemi/SKAT_testing/Results_transfGWAS//job-Total_signif_pixels_Shoot_CTR_wk10_resid-1323_cohort_mincount1_defaultmissingrates_Chr4Pt1of4-PConly/pheno-Total_signif_pixels_Shoot_CTR_wk10_resid.header.pheno-scaff-1323_cohort_mincount1_defaultmissingrates_Chr4Pt1of4.snp.pass.traw.gz.csv\n",
      "We will skip this\n",
      "\n",
      "There already exists output for /expanse/lustre/projects/osu123/naglemi/SKAT_testing/Results_transfGWAS//job-Total_signif_pixels_Shoot_CTR_wk10_resid-1323_cohort_mincount1_defaultmissingrates_Chr4Pt2of4-PConly/pheno-Total_signif_pixels_Shoot_CTR_wk10_resid.header.pheno-scaff-1323_cohort_mincount1_defaultmissingrates_Chr4Pt2of4.snp.pass.traw.gz.csv\n",
      "We will skip this\n",
      "\n",
      "There already exists output for /expanse/lustre/projects/osu123/naglemi/SKAT_testing/Results_transfGWAS//job-Total_signif_pixels_Shoot_CTR_wk10_resid-1323_cohort_mincount1_defaultmissingrates_Chr4Pt3of4-PConly/pheno-Total_signif_pixels_Shoot_CTR_wk10_resid.header.pheno-scaff-1323_cohort_mincount1_defaultmissingrates_Chr4Pt3of4.snp.pass.traw.gz.csv\n",
      "We will skip this\n",
      "\n",
      "There already exists output for /expanse/lustre/projects/osu123/naglemi/SKAT_testing/Results_transfGWAS//job-Total_signif_pixels_Shoot_CTR_wk10_resid-1323_cohort_mincount1_defaultmissingrates_Chr4Pt4of4-PConly/pheno-Total_signif_pixels_Shoot_CTR_wk10_resid.header.pheno-scaff-1323_cohort_mincount1_defaultmissingrates_Chr4Pt4of4.snp.pass.traw.gz.csv\n",
      "We will skip this\n",
      "\n",
      "There already exists output for /expanse/lustre/projects/osu123/naglemi/SKAT_testing/Results_transfGWAS//job-Total_signif_pixels_Shoot_CTR_wk10_resid-1323_cohort_mincount1_defaultmissingrates_Chr5Pt1of4-PConly/pheno-Total_signif_pixels_Shoot_CTR_wk10_resid.header.pheno-scaff-1323_cohort_mincount1_defaultmissingrates_Chr5Pt1of4.snp.pass.traw.gz.csv\n",
      "We will skip this\n",
      "\n",
      "There already exists output for /expanse/lustre/projects/osu123/naglemi/SKAT_testing/Results_transfGWAS//job-Total_signif_pixels_Shoot_CTR_wk10_resid-1323_cohort_mincount1_defaultmissingrates_Chr5Pt2of4-PConly/pheno-Total_signif_pixels_Shoot_CTR_wk10_resid.header.pheno-scaff-1323_cohort_mincount1_defaultmissingrates_Chr5Pt2of4.snp.pass.traw.gz.csv\n",
      "We will skip this\n",
      "\n",
      "There already exists output for /expanse/lustre/projects/osu123/naglemi/SKAT_testing/Results_transfGWAS//job-Total_signif_pixels_Shoot_CTR_wk10_resid-1323_cohort_mincount1_defaultmissingrates_Chr5Pt3of4-PConly/pheno-Total_signif_pixels_Shoot_CTR_wk10_resid.header.pheno-scaff-1323_cohort_mincount1_defaultmissingrates_Chr5Pt3of4.snp.pass.traw.gz.csv\n",
      "We will skip this\n",
      "\n",
      "There already exists output for /expanse/lustre/projects/osu123/naglemi/SKAT_testing/Results_transfGWAS//job-Total_signif_pixels_Shoot_CTR_wk10_resid-1323_cohort_mincount1_defaultmissingrates_Chr5Pt4of4-PConly/pheno-Total_signif_pixels_Shoot_CTR_wk10_resid.header.pheno-scaff-1323_cohort_mincount1_defaultmissingrates_Chr5Pt4of4.snp.pass.traw.gz.csv\n",
      "We will skip this\n",
      "\n",
      "There already exists output for /expanse/lustre/projects/osu123/naglemi/SKAT_testing/Results_transfGWAS//job-Total_signif_pixels_Shoot_CTR_wk10_resid-1323_cohort_mincount1_defaultmissingrates_Chr6Pt1of4-PConly/pheno-Total_signif_pixels_Shoot_CTR_wk10_resid.header.pheno-scaff-1323_cohort_mincount1_defaultmissingrates_Chr6Pt1of4.snp.pass.traw.gz.csv\n",
      "We will skip this\n",
      "\n",
      "There already exists output for /expanse/lustre/projects/osu123/naglemi/SKAT_testing/Results_transfGWAS//job-Total_signif_pixels_Shoot_CTR_wk10_resid-1323_cohort_mincount1_defaultmissingrates_Chr6Pt2of4-PConly/pheno-Total_signif_pixels_Shoot_CTR_wk10_resid.header.pheno-scaff-1323_cohort_mincount1_defaultmissingrates_Chr6Pt2of4.snp.pass.traw.gz.csv\n",
      "We will skip this\n",
      "\n",
      "There already exists output for /expanse/lustre/projects/osu123/naglemi/SKAT_testing/Results_transfGWAS//job-Total_signif_pixels_Shoot_CTR_wk10_resid-1323_cohort_mincount1_defaultmissingrates_Chr6Pt3of4-PConly/pheno-Total_signif_pixels_Shoot_CTR_wk10_resid.header.pheno-scaff-1323_cohort_mincount1_defaultmissingrates_Chr6Pt3of4.snp.pass.traw.gz.csv\n",
      "We will skip this\n",
      "\n",
      "There already exists output for /expanse/lustre/projects/osu123/naglemi/SKAT_testing/Results_transfGWAS//job-Total_signif_pixels_Shoot_CTR_wk10_resid-1323_cohort_mincount1_defaultmissingrates_Chr6Pt4of4-PConly/pheno-Total_signif_pixels_Shoot_CTR_wk10_resid.header.pheno-scaff-1323_cohort_mincount1_defaultmissingrates_Chr6Pt4of4.snp.pass.traw.gz.csv\n",
      "We will skip this\n",
      "\n",
      "There already exists output for /expanse/lustre/projects/osu123/naglemi/SKAT_testing/Results_transfGWAS//job-Total_signif_pixels_Shoot_CTR_wk10_resid-1323_cohort_mincount1_defaultmissingrates_Chr7Pt1of2-PConly/pheno-Total_signif_pixels_Shoot_CTR_wk10_resid.header.pheno-scaff-1323_cohort_mincount1_defaultmissingrates_Chr7Pt1of2.snp.pass.traw.gz.csv\n",
      "We will skip this\n",
      "\n",
      "There already exists output for /expanse/lustre/projects/osu123/naglemi/SKAT_testing/Results_transfGWAS//job-Total_signif_pixels_Shoot_CTR_wk10_resid-1323_cohort_mincount1_defaultmissingrates_Chr7Pt2of2-PConly/pheno-Total_signif_pixels_Shoot_CTR_wk10_resid.header.pheno-scaff-1323_cohort_mincount1_defaultmissingrates_Chr7Pt2of2.snp.pass.traw.gz.csv\n",
      "We will skip this\n",
      "\n",
      "There already exists output for /expanse/lustre/projects/osu123/naglemi/SKAT_testing/Results_transfGWAS//job-Total_signif_pixels_Shoot_CTR_wk10_resid-1323_cohort_mincount1_defaultmissingrates_Chr8Pt1of2-PConly/pheno-Total_signif_pixels_Shoot_CTR_wk10_resid.header.pheno-scaff-1323_cohort_mincount1_defaultmissingrates_Chr8Pt1of2.snp.pass.traw.gz.csv\n",
      "We will skip this\n",
      "\n",
      "There already exists output for /expanse/lustre/projects/osu123/naglemi/SKAT_testing/Results_transfGWAS//job-Total_signif_pixels_Shoot_CTR_wk10_resid-1323_cohort_mincount1_defaultmissingrates_Chr8Pt2of2-PConly/pheno-Total_signif_pixels_Shoot_CTR_wk10_resid.header.pheno-scaff-1323_cohort_mincount1_defaultmissingrates_Chr8Pt2of2.snp.pass.traw.gz.csv\n",
      "We will skip this\n",
      "\n",
      "There already exists output for /expanse/lustre/projects/osu123/naglemi/SKAT_testing/Results_transfGWAS//job-Total_signif_pixels_Shoot_CTR_wk10_resid-1323_cohort_mincount1_defaultmissingrates_Chr9Pt1of2-PConly/pheno-Total_signif_pixels_Shoot_CTR_wk10_resid.header.pheno-scaff-1323_cohort_mincount1_defaultmissingrates_Chr9Pt1of2.snp.pass.traw.gz.csv\n",
      "We will skip this\n",
      "\n",
      "There already exists output for /expanse/lustre/projects/osu123/naglemi/SKAT_testing/Results_transfGWAS//job-Total_signif_pixels_Shoot_CTR_wk10_resid-1323_cohort_mincount1_defaultmissingrates_Chr9Pt2of2-PConly/pheno-Total_signif_pixels_Shoot_CTR_wk10_resid.header.pheno-scaff-1323_cohort_mincount1_defaultmissingrates_Chr9Pt2of2.snp.pass.traw.gz.csv\n",
      "We will skip this\n",
      "\n",
      "There already exists output for /expanse/lustre/projects/osu123/naglemi/SKAT_testing/Results_transfGWAS//job-callus_transformation_PC1-uv_resid-1323_cohort_mincount1_defaultmissingrates_Chr10Pt1of2-PConly/pheno-callus_transformation_PC1-uv_resid.header.pheno-scaff-1323_cohort_mincount1_defaultmissingrates_Chr10Pt1of2.snp.pass.traw.gz.csv\n",
      "We will skip this\n",
      "\n",
      "There already exists output for /expanse/lustre/projects/osu123/naglemi/SKAT_testing/Results_transfGWAS//job-callus_transformation_PC1-uv_resid-1323_cohort_mincount1_defaultmissingrates_Chr10Pt2of2-PConly/pheno-callus_transformation_PC1-uv_resid.header.pheno-scaff-1323_cohort_mincount1_defaultmissingrates_Chr10Pt2of2.snp.pass.traw.gz.csv\n",
      "We will skip this\n",
      "\n",
      "There already exists output for /expanse/lustre/projects/osu123/naglemi/SKAT_testing/Results_transfGWAS//job-callus_transformation_PC1-uv_resid-1323_cohort_mincount1_defaultmissingrates_Chr11Pt1of2-PConly/pheno-callus_transformation_PC1-uv_resid.header.pheno-scaff-1323_cohort_mincount1_defaultmissingrates_Chr11Pt1of2.snp.pass.traw.gz.csv\n",
      "We will skip this\n",
      "\n",
      "There already exists output for /expanse/lustre/projects/osu123/naglemi/SKAT_testing/Results_transfGWAS//job-callus_transformation_PC1-uv_resid-1323_cohort_mincount1_defaultmissingrates_Chr11Pt2of2-PConly/pheno-callus_transformation_PC1-uv_resid.header.pheno-scaff-1323_cohort_mincount1_defaultmissingrates_Chr11Pt2of2.snp.pass.traw.gz.csv\n",
      "We will skip this\n",
      "\n",
      "There already exists output for /expanse/lustre/projects/osu123/naglemi/SKAT_testing/Results_transfGWAS//job-callus_transformation_PC1-uv_resid-1323_cohort_mincount1_defaultmissingrates_Chr12Pt1of2-PConly/pheno-callus_transformation_PC1-uv_resid.header.pheno-scaff-1323_cohort_mincount1_defaultmissingrates_Chr12Pt1of2.snp.pass.traw.gz.csv\n",
      "We will skip this\n",
      "\n",
      "There already exists output for /expanse/lustre/projects/osu123/naglemi/SKAT_testing/Results_transfGWAS//job-callus_transformation_PC1-uv_resid-1323_cohort_mincount1_defaultmissingrates_Chr12Pt2of2-PConly/pheno-callus_transformation_PC1-uv_resid.header.pheno-scaff-1323_cohort_mincount1_defaultmissingrates_Chr12Pt2of2.snp.pass.traw.gz.csv\n",
      "We will skip this\n",
      "\n",
      "There already exists output for /expanse/lustre/projects/osu123/naglemi/SKAT_testing/Results_transfGWAS//job-callus_transformation_PC1-uv_resid-1323_cohort_mincount1_defaultmissingrates_Chr13Pt1of2-PConly/pheno-callus_transformation_PC1-uv_resid.header.pheno-scaff-1323_cohort_mincount1_defaultmissingrates_Chr13Pt1of2.snp.pass.traw.gz.csv\n",
      "We will skip this\n",
      "\n",
      "There already exists output for /expanse/lustre/projects/osu123/naglemi/SKAT_testing/Results_transfGWAS//job-callus_transformation_PC1-uv_resid-1323_cohort_mincount1_defaultmissingrates_Chr13Pt2of2-PConly/pheno-callus_transformation_PC1-uv_resid.header.pheno-scaff-1323_cohort_mincount1_defaultmissingrates_Chr13Pt2of2.snp.pass.traw.gz.csv\n",
      "We will skip this\n",
      "\n",
      "There already exists output for /expanse/lustre/projects/osu123/naglemi/SKAT_testing/Results_transfGWAS//job-callus_transformation_PC1-uv_resid-1323_cohort_mincount1_defaultmissingrates_Chr14Pt1of2-PConly/pheno-callus_transformation_PC1-uv_resid.header.pheno-scaff-1323_cohort_mincount1_defaultmissingrates_Chr14Pt1of2.snp.pass.traw.gz.csv\n",
      "We will skip this\n",
      "\n",
      "There already exists output for /expanse/lustre/projects/osu123/naglemi/SKAT_testing/Results_transfGWAS//job-callus_transformation_PC1-uv_resid-1323_cohort_mincount1_defaultmissingrates_Chr14Pt2of2-PConly/pheno-callus_transformation_PC1-uv_resid.header.pheno-scaff-1323_cohort_mincount1_defaultmissingrates_Chr14Pt2of2.snp.pass.traw.gz.csv\n",
      "We will skip this\n",
      "\n",
      "There already exists output for /expanse/lustre/projects/osu123/naglemi/SKAT_testing/Results_transfGWAS//job-callus_transformation_PC1-uv_resid-1323_cohort_mincount1_defaultmissingrates_Chr15Pt1of2-PConly/pheno-callus_transformation_PC1-uv_resid.header.pheno-scaff-1323_cohort_mincount1_defaultmissingrates_Chr15Pt1of2.snp.pass.traw.gz.csv\n",
      "We will skip this\n",
      "\n",
      "There already exists output for /expanse/lustre/projects/osu123/naglemi/SKAT_testing/Results_transfGWAS//job-callus_transformation_PC1-uv_resid-1323_cohort_mincount1_defaultmissingrates_Chr15Pt2of2-PConly/pheno-callus_transformation_PC1-uv_resid.header.pheno-scaff-1323_cohort_mincount1_defaultmissingrates_Chr15Pt2of2.snp.pass.traw.gz.csv\n",
      "We will skip this\n",
      "\n",
      "There already exists output for /expanse/lustre/projects/osu123/naglemi/SKAT_testing/Results_transfGWAS//job-callus_transformation_PC1-uv_resid-1323_cohort_mincount1_defaultmissingrates_Chr16Pt1of2-PConly/pheno-callus_transformation_PC1-uv_resid.header.pheno-scaff-1323_cohort_mincount1_defaultmissingrates_Chr16Pt1of2.snp.pass.traw.gz.csv\n",
      "We will skip this\n",
      "\n",
      "There already exists output for /expanse/lustre/projects/osu123/naglemi/SKAT_testing/Results_transfGWAS//job-callus_transformation_PC1-uv_resid-1323_cohort_mincount1_defaultmissingrates_Chr16Pt2of2-PConly/pheno-callus_transformation_PC1-uv_resid.header.pheno-scaff-1323_cohort_mincount1_defaultmissingrates_Chr16Pt2of2.snp.pass.traw.gz.csv\n",
      "We will skip this\n",
      "\n",
      "There already exists output for /expanse/lustre/projects/osu123/naglemi/SKAT_testing/Results_transfGWAS//job-callus_transformation_PC1-uv_resid-1323_cohort_mincount1_defaultmissingrates_Chr17Pt1of2-PConly/pheno-callus_transformation_PC1-uv_resid.header.pheno-scaff-1323_cohort_mincount1_defaultmissingrates_Chr17Pt1of2.snp.pass.traw.gz.csv\n",
      "We will skip this\n",
      "\n",
      "There already exists output for /expanse/lustre/projects/osu123/naglemi/SKAT_testing/Results_transfGWAS//job-callus_transformation_PC1-uv_resid-1323_cohort_mincount1_defaultmissingrates_Chr17Pt2of2-PConly/pheno-callus_transformation_PC1-uv_resid.header.pheno-scaff-1323_cohort_mincount1_defaultmissingrates_Chr17Pt2of2.snp.pass.traw.gz.csv\n",
      "We will skip this\n",
      "\n",
      "There already exists output for /expanse/lustre/projects/osu123/naglemi/SKAT_testing/Results_transfGWAS//job-callus_transformation_PC1-uv_resid-1323_cohort_mincount1_defaultmissingrates_Chr18Pt1of2-PConly/pheno-callus_transformation_PC1-uv_resid.header.pheno-scaff-1323_cohort_mincount1_defaultmissingrates_Chr18Pt1of2.snp.pass.traw.gz.csv\n",
      "We will skip this\n",
      "\n",
      "There already exists output for /expanse/lustre/projects/osu123/naglemi/SKAT_testing/Results_transfGWAS//job-callus_transformation_PC1-uv_resid-1323_cohort_mincount1_defaultmissingrates_Chr18Pt2of2-PConly/pheno-callus_transformation_PC1-uv_resid.header.pheno-scaff-1323_cohort_mincount1_defaultmissingrates_Chr18Pt2of2.snp.pass.traw.gz.csv\n",
      "We will skip this\n",
      "\n",
      "There already exists output for /expanse/lustre/projects/osu123/naglemi/SKAT_testing/Results_transfGWAS//job-callus_transformation_PC1-uv_resid-1323_cohort_mincount1_defaultmissingrates_Chr19Pt1of2-PConly/pheno-callus_transformation_PC1-uv_resid.header.pheno-scaff-1323_cohort_mincount1_defaultmissingrates_Chr19Pt1of2.snp.pass.traw.gz.csv\n",
      "We will skip this\n",
      "\n",
      "There already exists output for /expanse/lustre/projects/osu123/naglemi/SKAT_testing/Results_transfGWAS//job-callus_transformation_PC1-uv_resid-1323_cohort_mincount1_defaultmissingrates_Chr19Pt2of2-PConly/pheno-callus_transformation_PC1-uv_resid.header.pheno-scaff-1323_cohort_mincount1_defaultmissingrates_Chr19Pt2of2.snp.pass.traw.gz.csv\n",
      "We will skip this\n",
      "\n",
      "There already exists output for /expanse/lustre/projects/osu123/naglemi/SKAT_testing/Results_transfGWAS//job-callus_transformation_PC1-uv_resid-1323_cohort_mincount1_defaultmissingrates_Chr1Pt1of8-PConly/pheno-callus_transformation_PC1-uv_resid.header.pheno-scaff-1323_cohort_mincount1_defaultmissingrates_Chr1Pt1of8.snp.pass.traw.gz.csv\n",
      "We will skip this\n",
      "\n",
      "There already exists output for /expanse/lustre/projects/osu123/naglemi/SKAT_testing/Results_transfGWAS//job-callus_transformation_PC1-uv_resid-1323_cohort_mincount1_defaultmissingrates_Chr1Pt2of8-PConly/pheno-callus_transformation_PC1-uv_resid.header.pheno-scaff-1323_cohort_mincount1_defaultmissingrates_Chr1Pt2of8.snp.pass.traw.gz.csv\n",
      "We will skip this\n",
      "\n",
      "There already exists output for /expanse/lustre/projects/osu123/naglemi/SKAT_testing/Results_transfGWAS//job-callus_transformation_PC1-uv_resid-1323_cohort_mincount1_defaultmissingrates_Chr1Pt3of8-PConly/pheno-callus_transformation_PC1-uv_resid.header.pheno-scaff-1323_cohort_mincount1_defaultmissingrates_Chr1Pt3of8.snp.pass.traw.gz.csv\n",
      "We will skip this\n",
      "\n",
      "There already exists output for /expanse/lustre/projects/osu123/naglemi/SKAT_testing/Results_transfGWAS//job-callus_transformation_PC1-uv_resid-1323_cohort_mincount1_defaultmissingrates_Chr1Pt4of8-PConly/pheno-callus_transformation_PC1-uv_resid.header.pheno-scaff-1323_cohort_mincount1_defaultmissingrates_Chr1Pt4of8.snp.pass.traw.gz.csv\n",
      "We will skip this\n",
      "\n",
      "There already exists output for /expanse/lustre/projects/osu123/naglemi/SKAT_testing/Results_transfGWAS//job-callus_transformation_PC1-uv_resid-1323_cohort_mincount1_defaultmissingrates_Chr1Pt5of8-PConly/pheno-callus_transformation_PC1-uv_resid.header.pheno-scaff-1323_cohort_mincount1_defaultmissingrates_Chr1Pt5of8.snp.pass.traw.gz.csv\n",
      "We will skip this\n",
      "\n",
      "There already exists output for /expanse/lustre/projects/osu123/naglemi/SKAT_testing/Results_transfGWAS//job-callus_transformation_PC1-uv_resid-1323_cohort_mincount1_defaultmissingrates_Chr1Pt6of8-PConly/pheno-callus_transformation_PC1-uv_resid.header.pheno-scaff-1323_cohort_mincount1_defaultmissingrates_Chr1Pt6of8.snp.pass.traw.gz.csv\n",
      "We will skip this\n",
      "\n",
      "There already exists output for /expanse/lustre/projects/osu123/naglemi/SKAT_testing/Results_transfGWAS//job-callus_transformation_PC1-uv_resid-1323_cohort_mincount1_defaultmissingrates_Chr1Pt7of8-PConly/pheno-callus_transformation_PC1-uv_resid.header.pheno-scaff-1323_cohort_mincount1_defaultmissingrates_Chr1Pt7of8.snp.pass.traw.gz.csv\n",
      "We will skip this\n",
      "\n",
      "There already exists output for /expanse/lustre/projects/osu123/naglemi/SKAT_testing/Results_transfGWAS//job-callus_transformation_PC1-uv_resid-1323_cohort_mincount1_defaultmissingrates_Chr1Pt8of8-PConly/pheno-callus_transformation_PC1-uv_resid.header.pheno-scaff-1323_cohort_mincount1_defaultmissingrates_Chr1Pt8of8.snp.pass.traw.gz.csv\n",
      "We will skip this\n",
      "\n",
      "There already exists output for /expanse/lustre/projects/osu123/naglemi/SKAT_testing/Results_transfGWAS//job-callus_transformation_PC1-uv_resid-1323_cohort_mincount1_defaultmissingrates_Chr2Pt1of4-PConly/pheno-callus_transformation_PC1-uv_resid.header.pheno-scaff-1323_cohort_mincount1_defaultmissingrates_Chr2Pt1of4.snp.pass.traw.gz.csv\n",
      "We will skip this\n",
      "\n",
      "There already exists output for /expanse/lustre/projects/osu123/naglemi/SKAT_testing/Results_transfGWAS//job-callus_transformation_PC1-uv_resid-1323_cohort_mincount1_defaultmissingrates_Chr2Pt2of4-PConly/pheno-callus_transformation_PC1-uv_resid.header.pheno-scaff-1323_cohort_mincount1_defaultmissingrates_Chr2Pt2of4.snp.pass.traw.gz.csv\n",
      "We will skip this\n",
      "\n",
      "There already exists output for /expanse/lustre/projects/osu123/naglemi/SKAT_testing/Results_transfGWAS//job-callus_transformation_PC1-uv_resid-1323_cohort_mincount1_defaultmissingrates_Chr2Pt3of4-PConly/pheno-callus_transformation_PC1-uv_resid.header.pheno-scaff-1323_cohort_mincount1_defaultmissingrates_Chr2Pt3of4.snp.pass.traw.gz.csv\n",
      "We will skip this\n",
      "\n",
      "There already exists output for /expanse/lustre/projects/osu123/naglemi/SKAT_testing/Results_transfGWAS//job-callus_transformation_PC1-uv_resid-1323_cohort_mincount1_defaultmissingrates_Chr2Pt4of4-PConly/pheno-callus_transformation_PC1-uv_resid.header.pheno-scaff-1323_cohort_mincount1_defaultmissingrates_Chr2Pt4of4.snp.pass.traw.gz.csv\n",
      "We will skip this\n",
      "\n",
      "There already exists output for /expanse/lustre/projects/osu123/naglemi/SKAT_testing/Results_transfGWAS//job-callus_transformation_PC1-uv_resid-1323_cohort_mincount1_defaultmissingrates_Chr3Pt1of2-PConly/pheno-callus_transformation_PC1-uv_resid.header.pheno-scaff-1323_cohort_mincount1_defaultmissingrates_Chr3Pt1of2.snp.pass.traw.gz.csv\n",
      "We will skip this\n",
      "\n",
      "There already exists output for /expanse/lustre/projects/osu123/naglemi/SKAT_testing/Results_transfGWAS//job-callus_transformation_PC1-uv_resid-1323_cohort_mincount1_defaultmissingrates_Chr3Pt2of2-PConly/pheno-callus_transformation_PC1-uv_resid.header.pheno-scaff-1323_cohort_mincount1_defaultmissingrates_Chr3Pt2of2.snp.pass.traw.gz.csv\n",
      "We will skip this\n",
      "\n",
      "There already exists output for /expanse/lustre/projects/osu123/naglemi/SKAT_testing/Results_transfGWAS//job-callus_transformation_PC1-uv_resid-1323_cohort_mincount1_defaultmissingrates_Chr4Pt1of4-PConly/pheno-callus_transformation_PC1-uv_resid.header.pheno-scaff-1323_cohort_mincount1_defaultmissingrates_Chr4Pt1of4.snp.pass.traw.gz.csv\n",
      "We will skip this\n",
      "\n",
      "There already exists output for /expanse/lustre/projects/osu123/naglemi/SKAT_testing/Results_transfGWAS//job-callus_transformation_PC1-uv_resid-1323_cohort_mincount1_defaultmissingrates_Chr4Pt2of4-PConly/pheno-callus_transformation_PC1-uv_resid.header.pheno-scaff-1323_cohort_mincount1_defaultmissingrates_Chr4Pt2of4.snp.pass.traw.gz.csv\n",
      "We will skip this\n",
      "\n",
      "There already exists output for /expanse/lustre/projects/osu123/naglemi/SKAT_testing/Results_transfGWAS//job-callus_transformation_PC1-uv_resid-1323_cohort_mincount1_defaultmissingrates_Chr4Pt3of4-PConly/pheno-callus_transformation_PC1-uv_resid.header.pheno-scaff-1323_cohort_mincount1_defaultmissingrates_Chr4Pt3of4.snp.pass.traw.gz.csv\n",
      "We will skip this\n",
      "\n",
      "There already exists output for /expanse/lustre/projects/osu123/naglemi/SKAT_testing/Results_transfGWAS//job-callus_transformation_PC1-uv_resid-1323_cohort_mincount1_defaultmissingrates_Chr4Pt4of4-PConly/pheno-callus_transformation_PC1-uv_resid.header.pheno-scaff-1323_cohort_mincount1_defaultmissingrates_Chr4Pt4of4.snp.pass.traw.gz.csv\n",
      "We will skip this\n",
      "\n",
      "There already exists output for /expanse/lustre/projects/osu123/naglemi/SKAT_testing/Results_transfGWAS//job-callus_transformation_PC1-uv_resid-1323_cohort_mincount1_defaultmissingrates_Chr5Pt1of4-PConly/pheno-callus_transformation_PC1-uv_resid.header.pheno-scaff-1323_cohort_mincount1_defaultmissingrates_Chr5Pt1of4.snp.pass.traw.gz.csv\n",
      "We will skip this\n",
      "\n",
      "There already exists output for /expanse/lustre/projects/osu123/naglemi/SKAT_testing/Results_transfGWAS//job-callus_transformation_PC1-uv_resid-1323_cohort_mincount1_defaultmissingrates_Chr5Pt2of4-PConly/pheno-callus_transformation_PC1-uv_resid.header.pheno-scaff-1323_cohort_mincount1_defaultmissingrates_Chr5Pt2of4.snp.pass.traw.gz.csv\n",
      "We will skip this\n",
      "\n",
      "There already exists output for /expanse/lustre/projects/osu123/naglemi/SKAT_testing/Results_transfGWAS//job-callus_transformation_PC1-uv_resid-1323_cohort_mincount1_defaultmissingrates_Chr5Pt3of4-PConly/pheno-callus_transformation_PC1-uv_resid.header.pheno-scaff-1323_cohort_mincount1_defaultmissingrates_Chr5Pt3of4.snp.pass.traw.gz.csv\n",
      "We will skip this\n",
      "\n",
      "There already exists output for /expanse/lustre/projects/osu123/naglemi/SKAT_testing/Results_transfGWAS//job-callus_transformation_PC1-uv_resid-1323_cohort_mincount1_defaultmissingrates_Chr5Pt4of4-PConly/pheno-callus_transformation_PC1-uv_resid.header.pheno-scaff-1323_cohort_mincount1_defaultmissingrates_Chr5Pt4of4.snp.pass.traw.gz.csv\n",
      "We will skip this\n",
      "\n",
      "There already exists output for /expanse/lustre/projects/osu123/naglemi/SKAT_testing/Results_transfGWAS//job-callus_transformation_PC1-uv_resid-1323_cohort_mincount1_defaultmissingrates_Chr6Pt1of4-PConly/pheno-callus_transformation_PC1-uv_resid.header.pheno-scaff-1323_cohort_mincount1_defaultmissingrates_Chr6Pt1of4.snp.pass.traw.gz.csv\n",
      "We will skip this\n",
      "\n",
      "There already exists output for /expanse/lustre/projects/osu123/naglemi/SKAT_testing/Results_transfGWAS//job-callus_transformation_PC1-uv_resid-1323_cohort_mincount1_defaultmissingrates_Chr6Pt2of4-PConly/pheno-callus_transformation_PC1-uv_resid.header.pheno-scaff-1323_cohort_mincount1_defaultmissingrates_Chr6Pt2of4.snp.pass.traw.gz.csv\n",
      "We will skip this\n",
      "\n",
      "There already exists output for /expanse/lustre/projects/osu123/naglemi/SKAT_testing/Results_transfGWAS//job-callus_transformation_PC1-uv_resid-1323_cohort_mincount1_defaultmissingrates_Chr6Pt3of4-PConly/pheno-callus_transformation_PC1-uv_resid.header.pheno-scaff-1323_cohort_mincount1_defaultmissingrates_Chr6Pt3of4.snp.pass.traw.gz.csv\n",
      "We will skip this\n",
      "\n",
      "There already exists output for /expanse/lustre/projects/osu123/naglemi/SKAT_testing/Results_transfGWAS//job-callus_transformation_PC1-uv_resid-1323_cohort_mincount1_defaultmissingrates_Chr6Pt4of4-PConly/pheno-callus_transformation_PC1-uv_resid.header.pheno-scaff-1323_cohort_mincount1_defaultmissingrates_Chr6Pt4of4.snp.pass.traw.gz.csv\n",
      "We will skip this\n",
      "\n",
      "There already exists output for /expanse/lustre/projects/osu123/naglemi/SKAT_testing/Results_transfGWAS//job-callus_transformation_PC1-uv_resid-1323_cohort_mincount1_defaultmissingrates_Chr7Pt1of2-PConly/pheno-callus_transformation_PC1-uv_resid.header.pheno-scaff-1323_cohort_mincount1_defaultmissingrates_Chr7Pt1of2.snp.pass.traw.gz.csv\n",
      "We will skip this\n",
      "\n",
      "There already exists output for /expanse/lustre/projects/osu123/naglemi/SKAT_testing/Results_transfGWAS//job-callus_transformation_PC1-uv_resid-1323_cohort_mincount1_defaultmissingrates_Chr7Pt2of2-PConly/pheno-callus_transformation_PC1-uv_resid.header.pheno-scaff-1323_cohort_mincount1_defaultmissingrates_Chr7Pt2of2.snp.pass.traw.gz.csv\n",
      "We will skip this\n",
      "\n",
      "There already exists output for /expanse/lustre/projects/osu123/naglemi/SKAT_testing/Results_transfGWAS//job-callus_transformation_PC1-uv_resid-1323_cohort_mincount1_defaultmissingrates_Chr8Pt1of2-PConly/pheno-callus_transformation_PC1-uv_resid.header.pheno-scaff-1323_cohort_mincount1_defaultmissingrates_Chr8Pt1of2.snp.pass.traw.gz.csv\n",
      "We will skip this\n",
      "\n",
      "There already exists output for /expanse/lustre/projects/osu123/naglemi/SKAT_testing/Results_transfGWAS//job-callus_transformation_PC1-uv_resid-1323_cohort_mincount1_defaultmissingrates_Chr8Pt2of2-PConly/pheno-callus_transformation_PC1-uv_resid.header.pheno-scaff-1323_cohort_mincount1_defaultmissingrates_Chr8Pt2of2.snp.pass.traw.gz.csv\n",
      "We will skip this\n",
      "\n",
      "There already exists output for /expanse/lustre/projects/osu123/naglemi/SKAT_testing/Results_transfGWAS//job-callus_transformation_PC1-uv_resid-1323_cohort_mincount1_defaultmissingrates_Chr9Pt1of2-PConly/pheno-callus_transformation_PC1-uv_resid.header.pheno-scaff-1323_cohort_mincount1_defaultmissingrates_Chr9Pt1of2.snp.pass.traw.gz.csv\n",
      "We will skip this\n",
      "\n",
      "There already exists output for /expanse/lustre/projects/osu123/naglemi/SKAT_testing/Results_transfGWAS//job-callus_transformation_PC1-uv_resid-1323_cohort_mincount1_defaultmissingrates_Chr9Pt2of2-PConly/pheno-callus_transformation_PC1-uv_resid.header.pheno-scaff-1323_cohort_mincount1_defaultmissingrates_Chr9Pt2of2.snp.pass.traw.gz.csv\n",
      "We will skip this\n",
      "\n",
      "There already exists output for /expanse/lustre/projects/osu123/naglemi/SKAT_testing/Results_transfGWAS//job-portion_transgenic_Shoot_AS_wk10_resid-1323_cohort_mincount1_defaultmissingrates_Chr10Pt1of2-PConly/pheno-portion_transgenic_Shoot_AS_wk10_resid.header.pheno-scaff-1323_cohort_mincount1_defaultmissingrates_Chr10Pt1of2.snp.pass.traw.gz.csv\n",
      "We will skip this\n",
      "\n",
      "There already exists output for /expanse/lustre/projects/osu123/naglemi/SKAT_testing/Results_transfGWAS//job-portion_transgenic_Shoot_AS_wk10_resid-1323_cohort_mincount1_defaultmissingrates_Chr10Pt2of2-PConly/pheno-portion_transgenic_Shoot_AS_wk10_resid.header.pheno-scaff-1323_cohort_mincount1_defaultmissingrates_Chr10Pt2of2.snp.pass.traw.gz.csv\n",
      "We will skip this\n",
      "\n",
      "There already exists output for /expanse/lustre/projects/osu123/naglemi/SKAT_testing/Results_transfGWAS//job-portion_transgenic_Shoot_AS_wk10_resid-1323_cohort_mincount1_defaultmissingrates_Chr11Pt1of2-PConly/pheno-portion_transgenic_Shoot_AS_wk10_resid.header.pheno-scaff-1323_cohort_mincount1_defaultmissingrates_Chr11Pt1of2.snp.pass.traw.gz.csv\n",
      "We will skip this\n",
      "\n",
      "There already exists output for /expanse/lustre/projects/osu123/naglemi/SKAT_testing/Results_transfGWAS//job-portion_transgenic_Shoot_AS_wk10_resid-1323_cohort_mincount1_defaultmissingrates_Chr11Pt2of2-PConly/pheno-portion_transgenic_Shoot_AS_wk10_resid.header.pheno-scaff-1323_cohort_mincount1_defaultmissingrates_Chr11Pt2of2.snp.pass.traw.gz.csv\n",
      "We will skip this\n",
      "\n",
      "There already exists output for /expanse/lustre/projects/osu123/naglemi/SKAT_testing/Results_transfGWAS//job-portion_transgenic_Shoot_AS_wk10_resid-1323_cohort_mincount1_defaultmissingrates_Chr12Pt1of2-PConly/pheno-portion_transgenic_Shoot_AS_wk10_resid.header.pheno-scaff-1323_cohort_mincount1_defaultmissingrates_Chr12Pt1of2.snp.pass.traw.gz.csv\n",
      "We will skip this\n",
      "\n",
      "There already exists output for /expanse/lustre/projects/osu123/naglemi/SKAT_testing/Results_transfGWAS//job-portion_transgenic_Shoot_AS_wk10_resid-1323_cohort_mincount1_defaultmissingrates_Chr12Pt2of2-PConly/pheno-portion_transgenic_Shoot_AS_wk10_resid.header.pheno-scaff-1323_cohort_mincount1_defaultmissingrates_Chr12Pt2of2.snp.pass.traw.gz.csv\n",
      "We will skip this\n",
      "\n",
      "There already exists output for /expanse/lustre/projects/osu123/naglemi/SKAT_testing/Results_transfGWAS//job-portion_transgenic_Shoot_AS_wk10_resid-1323_cohort_mincount1_defaultmissingrates_Chr13Pt1of2-PConly/pheno-portion_transgenic_Shoot_AS_wk10_resid.header.pheno-scaff-1323_cohort_mincount1_defaultmissingrates_Chr13Pt1of2.snp.pass.traw.gz.csv\n",
      "We will skip this\n",
      "\n",
      "There already exists output for /expanse/lustre/projects/osu123/naglemi/SKAT_testing/Results_transfGWAS//job-portion_transgenic_Shoot_AS_wk10_resid-1323_cohort_mincount1_defaultmissingrates_Chr13Pt2of2-PConly/pheno-portion_transgenic_Shoot_AS_wk10_resid.header.pheno-scaff-1323_cohort_mincount1_defaultmissingrates_Chr13Pt2of2.snp.pass.traw.gz.csv\n",
      "We will skip this\n",
      "\n",
      "There already exists output for /expanse/lustre/projects/osu123/naglemi/SKAT_testing/Results_transfGWAS//job-portion_transgenic_Shoot_AS_wk10_resid-1323_cohort_mincount1_defaultmissingrates_Chr14Pt1of2-PConly/pheno-portion_transgenic_Shoot_AS_wk10_resid.header.pheno-scaff-1323_cohort_mincount1_defaultmissingrates_Chr14Pt1of2.snp.pass.traw.gz.csv\n",
      "We will skip this\n",
      "\n",
      "There already exists output for /expanse/lustre/projects/osu123/naglemi/SKAT_testing/Results_transfGWAS//job-portion_transgenic_Shoot_AS_wk10_resid-1323_cohort_mincount1_defaultmissingrates_Chr14Pt2of2-PConly/pheno-portion_transgenic_Shoot_AS_wk10_resid.header.pheno-scaff-1323_cohort_mincount1_defaultmissingrates_Chr14Pt2of2.snp.pass.traw.gz.csv\n",
      "We will skip this\n",
      "\n",
      "There already exists output for /expanse/lustre/projects/osu123/naglemi/SKAT_testing/Results_transfGWAS//job-portion_transgenic_Shoot_AS_wk10_resid-1323_cohort_mincount1_defaultmissingrates_Chr15Pt1of2-PConly/pheno-portion_transgenic_Shoot_AS_wk10_resid.header.pheno-scaff-1323_cohort_mincount1_defaultmissingrates_Chr15Pt1of2.snp.pass.traw.gz.csv\n",
      "We will skip this\n",
      "\n",
      "There already exists output for /expanse/lustre/projects/osu123/naglemi/SKAT_testing/Results_transfGWAS//job-portion_transgenic_Shoot_AS_wk10_resid-1323_cohort_mincount1_defaultmissingrates_Chr15Pt2of2-PConly/pheno-portion_transgenic_Shoot_AS_wk10_resid.header.pheno-scaff-1323_cohort_mincount1_defaultmissingrates_Chr15Pt2of2.snp.pass.traw.gz.csv\n",
      "We will skip this\n",
      "\n",
      "There already exists output for /expanse/lustre/projects/osu123/naglemi/SKAT_testing/Results_transfGWAS//job-portion_transgenic_Shoot_AS_wk10_resid-1323_cohort_mincount1_defaultmissingrates_Chr16Pt1of2-PConly/pheno-portion_transgenic_Shoot_AS_wk10_resid.header.pheno-scaff-1323_cohort_mincount1_defaultmissingrates_Chr16Pt1of2.snp.pass.traw.gz.csv\n",
      "We will skip this\n",
      "\n",
      "There already exists output for /expanse/lustre/projects/osu123/naglemi/SKAT_testing/Results_transfGWAS//job-portion_transgenic_Shoot_AS_wk10_resid-1323_cohort_mincount1_defaultmissingrates_Chr16Pt2of2-PConly/pheno-portion_transgenic_Shoot_AS_wk10_resid.header.pheno-scaff-1323_cohort_mincount1_defaultmissingrates_Chr16Pt2of2.snp.pass.traw.gz.csv\n",
      "We will skip this\n",
      "\n",
      "There already exists output for /expanse/lustre/projects/osu123/naglemi/SKAT_testing/Results_transfGWAS//job-portion_transgenic_Shoot_AS_wk10_resid-1323_cohort_mincount1_defaultmissingrates_Chr17Pt1of2-PConly/pheno-portion_transgenic_Shoot_AS_wk10_resid.header.pheno-scaff-1323_cohort_mincount1_defaultmissingrates_Chr17Pt1of2.snp.pass.traw.gz.csv\n",
      "We will skip this\n",
      "\n",
      "There already exists output for /expanse/lustre/projects/osu123/naglemi/SKAT_testing/Results_transfGWAS//job-portion_transgenic_Shoot_AS_wk10_resid-1323_cohort_mincount1_defaultmissingrates_Chr17Pt2of2-PConly/pheno-portion_transgenic_Shoot_AS_wk10_resid.header.pheno-scaff-1323_cohort_mincount1_defaultmissingrates_Chr17Pt2of2.snp.pass.traw.gz.csv\n",
      "We will skip this\n",
      "\n",
      "There already exists output for /expanse/lustre/projects/osu123/naglemi/SKAT_testing/Results_transfGWAS//job-portion_transgenic_Shoot_AS_wk10_resid-1323_cohort_mincount1_defaultmissingrates_Chr18Pt1of2-PConly/pheno-portion_transgenic_Shoot_AS_wk10_resid.header.pheno-scaff-1323_cohort_mincount1_defaultmissingrates_Chr18Pt1of2.snp.pass.traw.gz.csv\n",
      "We will skip this\n",
      "\n",
      "There already exists output for /expanse/lustre/projects/osu123/naglemi/SKAT_testing/Results_transfGWAS//job-portion_transgenic_Shoot_AS_wk10_resid-1323_cohort_mincount1_defaultmissingrates_Chr18Pt2of2-PConly/pheno-portion_transgenic_Shoot_AS_wk10_resid.header.pheno-scaff-1323_cohort_mincount1_defaultmissingrates_Chr18Pt2of2.snp.pass.traw.gz.csv\n",
      "We will skip this\n",
      "\n",
      "There already exists output for /expanse/lustre/projects/osu123/naglemi/SKAT_testing/Results_transfGWAS//job-portion_transgenic_Shoot_AS_wk10_resid-1323_cohort_mincount1_defaultmissingrates_Chr19Pt1of2-PConly/pheno-portion_transgenic_Shoot_AS_wk10_resid.header.pheno-scaff-1323_cohort_mincount1_defaultmissingrates_Chr19Pt1of2.snp.pass.traw.gz.csv\n",
      "We will skip this\n",
      "\n",
      "There already exists output for /expanse/lustre/projects/osu123/naglemi/SKAT_testing/Results_transfGWAS//job-portion_transgenic_Shoot_AS_wk10_resid-1323_cohort_mincount1_defaultmissingrates_Chr19Pt2of2-PConly/pheno-portion_transgenic_Shoot_AS_wk10_resid.header.pheno-scaff-1323_cohort_mincount1_defaultmissingrates_Chr19Pt2of2.snp.pass.traw.gz.csv\n",
      "We will skip this\n",
      "\n",
      "There already exists output for /expanse/lustre/projects/osu123/naglemi/SKAT_testing/Results_transfGWAS//job-portion_transgenic_Shoot_AS_wk10_resid-1323_cohort_mincount1_defaultmissingrates_Chr1Pt1of8-PConly/pheno-portion_transgenic_Shoot_AS_wk10_resid.header.pheno-scaff-1323_cohort_mincount1_defaultmissingrates_Chr1Pt1of8.snp.pass.traw.gz.csv\n",
      "We will skip this\n",
      "\n",
      "There already exists output for /expanse/lustre/projects/osu123/naglemi/SKAT_testing/Results_transfGWAS//job-portion_transgenic_Shoot_AS_wk10_resid-1323_cohort_mincount1_defaultmissingrates_Chr1Pt2of8-PConly/pheno-portion_transgenic_Shoot_AS_wk10_resid.header.pheno-scaff-1323_cohort_mincount1_defaultmissingrates_Chr1Pt2of8.snp.pass.traw.gz.csv\n",
      "We will skip this\n",
      "\n",
      "There already exists output for /expanse/lustre/projects/osu123/naglemi/SKAT_testing/Results_transfGWAS//job-portion_transgenic_Shoot_AS_wk10_resid-1323_cohort_mincount1_defaultmissingrates_Chr1Pt3of8-PConly/pheno-portion_transgenic_Shoot_AS_wk10_resid.header.pheno-scaff-1323_cohort_mincount1_defaultmissingrates_Chr1Pt3of8.snp.pass.traw.gz.csv\n",
      "We will skip this\n",
      "\n",
      "There already exists output for /expanse/lustre/projects/osu123/naglemi/SKAT_testing/Results_transfGWAS//job-portion_transgenic_Shoot_AS_wk10_resid-1323_cohort_mincount1_defaultmissingrates_Chr1Pt4of8-PConly/pheno-portion_transgenic_Shoot_AS_wk10_resid.header.pheno-scaff-1323_cohort_mincount1_defaultmissingrates_Chr1Pt4of8.snp.pass.traw.gz.csv\n",
      "We will skip this\n",
      "\n",
      "There already exists output for /expanse/lustre/projects/osu123/naglemi/SKAT_testing/Results_transfGWAS//job-portion_transgenic_Shoot_AS_wk10_resid-1323_cohort_mincount1_defaultmissingrates_Chr1Pt5of8-PConly/pheno-portion_transgenic_Shoot_AS_wk10_resid.header.pheno-scaff-1323_cohort_mincount1_defaultmissingrates_Chr1Pt5of8.snp.pass.traw.gz.csv\n",
      "We will skip this\n",
      "\n",
      "There already exists output for /expanse/lustre/projects/osu123/naglemi/SKAT_testing/Results_transfGWAS//job-portion_transgenic_Shoot_AS_wk10_resid-1323_cohort_mincount1_defaultmissingrates_Chr1Pt6of8-PConly/pheno-portion_transgenic_Shoot_AS_wk10_resid.header.pheno-scaff-1323_cohort_mincount1_defaultmissingrates_Chr1Pt6of8.snp.pass.traw.gz.csv\n",
      "We will skip this\n",
      "\n",
      "There already exists output for /expanse/lustre/projects/osu123/naglemi/SKAT_testing/Results_transfGWAS//job-portion_transgenic_Shoot_AS_wk10_resid-1323_cohort_mincount1_defaultmissingrates_Chr1Pt7of8-PConly/pheno-portion_transgenic_Shoot_AS_wk10_resid.header.pheno-scaff-1323_cohort_mincount1_defaultmissingrates_Chr1Pt7of8.snp.pass.traw.gz.csv\n",
      "We will skip this\n",
      "\n",
      "There already exists output for /expanse/lustre/projects/osu123/naglemi/SKAT_testing/Results_transfGWAS//job-portion_transgenic_Shoot_AS_wk10_resid-1323_cohort_mincount1_defaultmissingrates_Chr1Pt8of8-PConly/pheno-portion_transgenic_Shoot_AS_wk10_resid.header.pheno-scaff-1323_cohort_mincount1_defaultmissingrates_Chr1Pt8of8.snp.pass.traw.gz.csv\n",
      "We will skip this\n",
      "\n",
      "There already exists output for /expanse/lustre/projects/osu123/naglemi/SKAT_testing/Results_transfGWAS//job-portion_transgenic_Shoot_AS_wk10_resid-1323_cohort_mincount1_defaultmissingrates_Chr2Pt1of4-PConly/pheno-portion_transgenic_Shoot_AS_wk10_resid.header.pheno-scaff-1323_cohort_mincount1_defaultmissingrates_Chr2Pt1of4.snp.pass.traw.gz.csv\n",
      "We will skip this\n",
      "\n",
      "There already exists output for /expanse/lustre/projects/osu123/naglemi/SKAT_testing/Results_transfGWAS//job-portion_transgenic_Shoot_AS_wk10_resid-1323_cohort_mincount1_defaultmissingrates_Chr2Pt2of4-PConly/pheno-portion_transgenic_Shoot_AS_wk10_resid.header.pheno-scaff-1323_cohort_mincount1_defaultmissingrates_Chr2Pt2of4.snp.pass.traw.gz.csv\n",
      "We will skip this\n",
      "\n",
      "There already exists output for /expanse/lustre/projects/osu123/naglemi/SKAT_testing/Results_transfGWAS//job-portion_transgenic_Shoot_AS_wk10_resid-1323_cohort_mincount1_defaultmissingrates_Chr2Pt3of4-PConly/pheno-portion_transgenic_Shoot_AS_wk10_resid.header.pheno-scaff-1323_cohort_mincount1_defaultmissingrates_Chr2Pt3of4.snp.pass.traw.gz.csv\n",
      "We will skip this\n",
      "\n",
      "There already exists output for /expanse/lustre/projects/osu123/naglemi/SKAT_testing/Results_transfGWAS//job-portion_transgenic_Shoot_AS_wk10_resid-1323_cohort_mincount1_defaultmissingrates_Chr2Pt4of4-PConly/pheno-portion_transgenic_Shoot_AS_wk10_resid.header.pheno-scaff-1323_cohort_mincount1_defaultmissingrates_Chr2Pt4of4.snp.pass.traw.gz.csv\n",
      "We will skip this\n",
      "\n",
      "There already exists output for /expanse/lustre/projects/osu123/naglemi/SKAT_testing/Results_transfGWAS//job-portion_transgenic_Shoot_AS_wk10_resid-1323_cohort_mincount1_defaultmissingrates_Chr3Pt1of2-PConly/pheno-portion_transgenic_Shoot_AS_wk10_resid.header.pheno-scaff-1323_cohort_mincount1_defaultmissingrates_Chr3Pt1of2.snp.pass.traw.gz.csv\n",
      "We will skip this\n",
      "\n",
      "There already exists output for /expanse/lustre/projects/osu123/naglemi/SKAT_testing/Results_transfGWAS//job-portion_transgenic_Shoot_AS_wk10_resid-1323_cohort_mincount1_defaultmissingrates_Chr3Pt2of2-PConly/pheno-portion_transgenic_Shoot_AS_wk10_resid.header.pheno-scaff-1323_cohort_mincount1_defaultmissingrates_Chr3Pt2of2.snp.pass.traw.gz.csv\n",
      "We will skip this\n",
      "\n",
      "There already exists output for /expanse/lustre/projects/osu123/naglemi/SKAT_testing/Results_transfGWAS//job-portion_transgenic_Shoot_AS_wk10_resid-1323_cohort_mincount1_defaultmissingrates_Chr4Pt1of4-PConly/pheno-portion_transgenic_Shoot_AS_wk10_resid.header.pheno-scaff-1323_cohort_mincount1_defaultmissingrates_Chr4Pt1of4.snp.pass.traw.gz.csv\n",
      "We will skip this\n",
      "\n",
      "There already exists output for /expanse/lustre/projects/osu123/naglemi/SKAT_testing/Results_transfGWAS//job-portion_transgenic_Shoot_AS_wk10_resid-1323_cohort_mincount1_defaultmissingrates_Chr4Pt2of4-PConly/pheno-portion_transgenic_Shoot_AS_wk10_resid.header.pheno-scaff-1323_cohort_mincount1_defaultmissingrates_Chr4Pt2of4.snp.pass.traw.gz.csv\n",
      "We will skip this\n",
      "\n",
      "There already exists output for /expanse/lustre/projects/osu123/naglemi/SKAT_testing/Results_transfGWAS//job-portion_transgenic_Shoot_AS_wk10_resid-1323_cohort_mincount1_defaultmissingrates_Chr4Pt3of4-PConly/pheno-portion_transgenic_Shoot_AS_wk10_resid.header.pheno-scaff-1323_cohort_mincount1_defaultmissingrates_Chr4Pt3of4.snp.pass.traw.gz.csv\n",
      "We will skip this\n",
      "\n",
      "There already exists output for /expanse/lustre/projects/osu123/naglemi/SKAT_testing/Results_transfGWAS//job-portion_transgenic_Shoot_AS_wk10_resid-1323_cohort_mincount1_defaultmissingrates_Chr4Pt4of4-PConly/pheno-portion_transgenic_Shoot_AS_wk10_resid.header.pheno-scaff-1323_cohort_mincount1_defaultmissingrates_Chr4Pt4of4.snp.pass.traw.gz.csv\n",
      "We will skip this\n",
      "\n",
      "There already exists output for /expanse/lustre/projects/osu123/naglemi/SKAT_testing/Results_transfGWAS//job-portion_transgenic_Shoot_AS_wk10_resid-1323_cohort_mincount1_defaultmissingrates_Chr5Pt1of4-PConly/pheno-portion_transgenic_Shoot_AS_wk10_resid.header.pheno-scaff-1323_cohort_mincount1_defaultmissingrates_Chr5Pt1of4.snp.pass.traw.gz.csv\n",
      "We will skip this\n",
      "\n",
      "There already exists output for /expanse/lustre/projects/osu123/naglemi/SKAT_testing/Results_transfGWAS//job-portion_transgenic_Shoot_AS_wk10_resid-1323_cohort_mincount1_defaultmissingrates_Chr5Pt2of4-PConly/pheno-portion_transgenic_Shoot_AS_wk10_resid.header.pheno-scaff-1323_cohort_mincount1_defaultmissingrates_Chr5Pt2of4.snp.pass.traw.gz.csv\n",
      "We will skip this\n",
      "\n",
      "There already exists output for /expanse/lustre/projects/osu123/naglemi/SKAT_testing/Results_transfGWAS//job-portion_transgenic_Shoot_AS_wk10_resid-1323_cohort_mincount1_defaultmissingrates_Chr5Pt3of4-PConly/pheno-portion_transgenic_Shoot_AS_wk10_resid.header.pheno-scaff-1323_cohort_mincount1_defaultmissingrates_Chr5Pt3of4.snp.pass.traw.gz.csv\n",
      "We will skip this\n",
      "\n",
      "There already exists output for /expanse/lustre/projects/osu123/naglemi/SKAT_testing/Results_transfGWAS//job-portion_transgenic_Shoot_AS_wk10_resid-1323_cohort_mincount1_defaultmissingrates_Chr5Pt4of4-PConly/pheno-portion_transgenic_Shoot_AS_wk10_resid.header.pheno-scaff-1323_cohort_mincount1_defaultmissingrates_Chr5Pt4of4.snp.pass.traw.gz.csv\n",
      "We will skip this\n",
      "\n",
      "There already exists output for /expanse/lustre/projects/osu123/naglemi/SKAT_testing/Results_transfGWAS//job-portion_transgenic_Shoot_AS_wk10_resid-1323_cohort_mincount1_defaultmissingrates_Chr6Pt1of4-PConly/pheno-portion_transgenic_Shoot_AS_wk10_resid.header.pheno-scaff-1323_cohort_mincount1_defaultmissingrates_Chr6Pt1of4.snp.pass.traw.gz.csv\n",
      "We will skip this\n",
      "\n",
      "There already exists output for /expanse/lustre/projects/osu123/naglemi/SKAT_testing/Results_transfGWAS//job-portion_transgenic_Shoot_AS_wk10_resid-1323_cohort_mincount1_defaultmissingrates_Chr6Pt2of4-PConly/pheno-portion_transgenic_Shoot_AS_wk10_resid.header.pheno-scaff-1323_cohort_mincount1_defaultmissingrates_Chr6Pt2of4.snp.pass.traw.gz.csv\n",
      "We will skip this\n",
      "\n",
      "There already exists output for /expanse/lustre/projects/osu123/naglemi/SKAT_testing/Results_transfGWAS//job-portion_transgenic_Shoot_AS_wk10_resid-1323_cohort_mincount1_defaultmissingrates_Chr6Pt3of4-PConly/pheno-portion_transgenic_Shoot_AS_wk10_resid.header.pheno-scaff-1323_cohort_mincount1_defaultmissingrates_Chr6Pt3of4.snp.pass.traw.gz.csv\n",
      "We will skip this\n",
      "\n",
      "There already exists output for /expanse/lustre/projects/osu123/naglemi/SKAT_testing/Results_transfGWAS//job-portion_transgenic_Shoot_AS_wk10_resid-1323_cohort_mincount1_defaultmissingrates_Chr6Pt4of4-PConly/pheno-portion_transgenic_Shoot_AS_wk10_resid.header.pheno-scaff-1323_cohort_mincount1_defaultmissingrates_Chr6Pt4of4.snp.pass.traw.gz.csv\n",
      "We will skip this\n",
      "\n",
      "There already exists output for /expanse/lustre/projects/osu123/naglemi/SKAT_testing/Results_transfGWAS//job-portion_transgenic_Shoot_AS_wk10_resid-1323_cohort_mincount1_defaultmissingrates_Chr7Pt1of2-PConly/pheno-portion_transgenic_Shoot_AS_wk10_resid.header.pheno-scaff-1323_cohort_mincount1_defaultmissingrates_Chr7Pt1of2.snp.pass.traw.gz.csv\n",
      "We will skip this\n",
      "\n",
      "There already exists output for /expanse/lustre/projects/osu123/naglemi/SKAT_testing/Results_transfGWAS//job-portion_transgenic_Shoot_AS_wk10_resid-1323_cohort_mincount1_defaultmissingrates_Chr7Pt2of2-PConly/pheno-portion_transgenic_Shoot_AS_wk10_resid.header.pheno-scaff-1323_cohort_mincount1_defaultmissingrates_Chr7Pt2of2.snp.pass.traw.gz.csv\n",
      "We will skip this\n",
      "\n",
      "There already exists output for /expanse/lustre/projects/osu123/naglemi/SKAT_testing/Results_transfGWAS//job-portion_transgenic_Shoot_AS_wk10_resid-1323_cohort_mincount1_defaultmissingrates_Chr8Pt1of2-PConly/pheno-portion_transgenic_Shoot_AS_wk10_resid.header.pheno-scaff-1323_cohort_mincount1_defaultmissingrates_Chr8Pt1of2.snp.pass.traw.gz.csv\n",
      "We will skip this\n",
      "\n",
      "There already exists output for /expanse/lustre/projects/osu123/naglemi/SKAT_testing/Results_transfGWAS//job-portion_transgenic_Shoot_AS_wk10_resid-1323_cohort_mincount1_defaultmissingrates_Chr8Pt2of2-PConly/pheno-portion_transgenic_Shoot_AS_wk10_resid.header.pheno-scaff-1323_cohort_mincount1_defaultmissingrates_Chr8Pt2of2.snp.pass.traw.gz.csv\n",
      "We will skip this\n",
      "\n",
      "There already exists output for /expanse/lustre/projects/osu123/naglemi/SKAT_testing/Results_transfGWAS//job-portion_transgenic_Shoot_AS_wk10_resid-1323_cohort_mincount1_defaultmissingrates_Chr9Pt1of2-PConly/pheno-portion_transgenic_Shoot_AS_wk10_resid.header.pheno-scaff-1323_cohort_mincount1_defaultmissingrates_Chr9Pt1of2.snp.pass.traw.gz.csv\n",
      "We will skip this\n",
      "\n",
      "There already exists output for /expanse/lustre/projects/osu123/naglemi/SKAT_testing/Results_transfGWAS//job-portion_transgenic_Shoot_AS_wk10_resid-1323_cohort_mincount1_defaultmissingrates_Chr9Pt2of2-PConly/pheno-portion_transgenic_Shoot_AS_wk10_resid.header.pheno-scaff-1323_cohort_mincount1_defaultmissingrates_Chr9Pt2of2.snp.pass.traw.gz.csv\n",
      "We will skip this\n",
      "\n",
      "There already exists output for /expanse/lustre/projects/osu123/naglemi/SKAT_testing/Results_transfGWAS//job-portion_transgenic_Shoot_AS_wk7_resid-1323_cohort_mincount1_defaultmissingrates_Chr10Pt1of2-PConly/pheno-portion_transgenic_Shoot_AS_wk7_resid.header.pheno-scaff-1323_cohort_mincount1_defaultmissingrates_Chr10Pt1of2.snp.pass.traw.gz.csv\n",
      "We will skip this\n",
      "\n",
      "There already exists output for /expanse/lustre/projects/osu123/naglemi/SKAT_testing/Results_transfGWAS//job-portion_transgenic_Shoot_AS_wk7_resid-1323_cohort_mincount1_defaultmissingrates_Chr10Pt2of2-PConly/pheno-portion_transgenic_Shoot_AS_wk7_resid.header.pheno-scaff-1323_cohort_mincount1_defaultmissingrates_Chr10Pt2of2.snp.pass.traw.gz.csv\n",
      "We will skip this\n",
      "\n",
      "There already exists output for /expanse/lustre/projects/osu123/naglemi/SKAT_testing/Results_transfGWAS//job-portion_transgenic_Shoot_AS_wk7_resid-1323_cohort_mincount1_defaultmissingrates_Chr11Pt1of2-PConly/pheno-portion_transgenic_Shoot_AS_wk7_resid.header.pheno-scaff-1323_cohort_mincount1_defaultmissingrates_Chr11Pt1of2.snp.pass.traw.gz.csv\n",
      "We will skip this\n",
      "\n",
      "There already exists output for /expanse/lustre/projects/osu123/naglemi/SKAT_testing/Results_transfGWAS//job-portion_transgenic_Shoot_AS_wk7_resid-1323_cohort_mincount1_defaultmissingrates_Chr11Pt2of2-PConly/pheno-portion_transgenic_Shoot_AS_wk7_resid.header.pheno-scaff-1323_cohort_mincount1_defaultmissingrates_Chr11Pt2of2.snp.pass.traw.gz.csv\n",
      "We will skip this\n",
      "\n",
      "There already exists output for /expanse/lustre/projects/osu123/naglemi/SKAT_testing/Results_transfGWAS//job-portion_transgenic_Shoot_AS_wk7_resid-1323_cohort_mincount1_defaultmissingrates_Chr12Pt1of2-PConly/pheno-portion_transgenic_Shoot_AS_wk7_resid.header.pheno-scaff-1323_cohort_mincount1_defaultmissingrates_Chr12Pt1of2.snp.pass.traw.gz.csv\n",
      "We will skip this\n",
      "\n",
      "There already exists output for /expanse/lustre/projects/osu123/naglemi/SKAT_testing/Results_transfGWAS//job-portion_transgenic_Shoot_AS_wk7_resid-1323_cohort_mincount1_defaultmissingrates_Chr12Pt2of2-PConly/pheno-portion_transgenic_Shoot_AS_wk7_resid.header.pheno-scaff-1323_cohort_mincount1_defaultmissingrates_Chr12Pt2of2.snp.pass.traw.gz.csv\n",
      "We will skip this\n",
      "\n",
      "There already exists output for /expanse/lustre/projects/osu123/naglemi/SKAT_testing/Results_transfGWAS//job-portion_transgenic_Shoot_AS_wk7_resid-1323_cohort_mincount1_defaultmissingrates_Chr13Pt1of2-PConly/pheno-portion_transgenic_Shoot_AS_wk7_resid.header.pheno-scaff-1323_cohort_mincount1_defaultmissingrates_Chr13Pt1of2.snp.pass.traw.gz.csv\n",
      "We will skip this\n",
      "\n",
      "There already exists output for /expanse/lustre/projects/osu123/naglemi/SKAT_testing/Results_transfGWAS//job-portion_transgenic_Shoot_AS_wk7_resid-1323_cohort_mincount1_defaultmissingrates_Chr13Pt2of2-PConly/pheno-portion_transgenic_Shoot_AS_wk7_resid.header.pheno-scaff-1323_cohort_mincount1_defaultmissingrates_Chr13Pt2of2.snp.pass.traw.gz.csv\n",
      "We will skip this\n",
      "\n",
      "There already exists output for /expanse/lustre/projects/osu123/naglemi/SKAT_testing/Results_transfGWAS//job-portion_transgenic_Shoot_AS_wk7_resid-1323_cohort_mincount1_defaultmissingrates_Chr14Pt1of2-PConly/pheno-portion_transgenic_Shoot_AS_wk7_resid.header.pheno-scaff-1323_cohort_mincount1_defaultmissingrates_Chr14Pt1of2.snp.pass.traw.gz.csv\n",
      "We will skip this\n",
      "\n",
      "There already exists output for /expanse/lustre/projects/osu123/naglemi/SKAT_testing/Results_transfGWAS//job-portion_transgenic_Shoot_AS_wk7_resid-1323_cohort_mincount1_defaultmissingrates_Chr14Pt2of2-PConly/pheno-portion_transgenic_Shoot_AS_wk7_resid.header.pheno-scaff-1323_cohort_mincount1_defaultmissingrates_Chr14Pt2of2.snp.pass.traw.gz.csv\n",
      "We will skip this\n",
      "\n",
      "There already exists output for /expanse/lustre/projects/osu123/naglemi/SKAT_testing/Results_transfGWAS//job-portion_transgenic_Shoot_AS_wk7_resid-1323_cohort_mincount1_defaultmissingrates_Chr15Pt1of2-PConly/pheno-portion_transgenic_Shoot_AS_wk7_resid.header.pheno-scaff-1323_cohort_mincount1_defaultmissingrates_Chr15Pt1of2.snp.pass.traw.gz.csv\n",
      "We will skip this\n",
      "\n",
      "There already exists output for /expanse/lustre/projects/osu123/naglemi/SKAT_testing/Results_transfGWAS//job-portion_transgenic_Shoot_AS_wk7_resid-1323_cohort_mincount1_defaultmissingrates_Chr15Pt2of2-PConly/pheno-portion_transgenic_Shoot_AS_wk7_resid.header.pheno-scaff-1323_cohort_mincount1_defaultmissingrates_Chr15Pt2of2.snp.pass.traw.gz.csv\n",
      "We will skip this\n",
      "\n",
      "There already exists output for /expanse/lustre/projects/osu123/naglemi/SKAT_testing/Results_transfGWAS//job-portion_transgenic_Shoot_AS_wk7_resid-1323_cohort_mincount1_defaultmissingrates_Chr16Pt1of2-PConly/pheno-portion_transgenic_Shoot_AS_wk7_resid.header.pheno-scaff-1323_cohort_mincount1_defaultmissingrates_Chr16Pt1of2.snp.pass.traw.gz.csv\n",
      "We will skip this\n",
      "\n",
      "There already exists output for /expanse/lustre/projects/osu123/naglemi/SKAT_testing/Results_transfGWAS//job-portion_transgenic_Shoot_AS_wk7_resid-1323_cohort_mincount1_defaultmissingrates_Chr16Pt2of2-PConly/pheno-portion_transgenic_Shoot_AS_wk7_resid.header.pheno-scaff-1323_cohort_mincount1_defaultmissingrates_Chr16Pt2of2.snp.pass.traw.gz.csv\n",
      "We will skip this\n",
      "\n",
      "There already exists output for /expanse/lustre/projects/osu123/naglemi/SKAT_testing/Results_transfGWAS//job-portion_transgenic_Shoot_AS_wk7_resid-1323_cohort_mincount1_defaultmissingrates_Chr17Pt1of2-PConly/pheno-portion_transgenic_Shoot_AS_wk7_resid.header.pheno-scaff-1323_cohort_mincount1_defaultmissingrates_Chr17Pt1of2.snp.pass.traw.gz.csv\n",
      "We will skip this\n",
      "\n",
      "There already exists output for /expanse/lustre/projects/osu123/naglemi/SKAT_testing/Results_transfGWAS//job-portion_transgenic_Shoot_AS_wk7_resid-1323_cohort_mincount1_defaultmissingrates_Chr17Pt2of2-PConly/pheno-portion_transgenic_Shoot_AS_wk7_resid.header.pheno-scaff-1323_cohort_mincount1_defaultmissingrates_Chr17Pt2of2.snp.pass.traw.gz.csv\n",
      "We will skip this\n",
      "\n",
      "There already exists output for /expanse/lustre/projects/osu123/naglemi/SKAT_testing/Results_transfGWAS//job-portion_transgenic_Shoot_AS_wk7_resid-1323_cohort_mincount1_defaultmissingrates_Chr18Pt1of2-PConly/pheno-portion_transgenic_Shoot_AS_wk7_resid.header.pheno-scaff-1323_cohort_mincount1_defaultmissingrates_Chr18Pt1of2.snp.pass.traw.gz.csv\n",
      "We will skip this\n",
      "\n",
      "There already exists output for /expanse/lustre/projects/osu123/naglemi/SKAT_testing/Results_transfGWAS//job-portion_transgenic_Shoot_AS_wk7_resid-1323_cohort_mincount1_defaultmissingrates_Chr18Pt2of2-PConly/pheno-portion_transgenic_Shoot_AS_wk7_resid.header.pheno-scaff-1323_cohort_mincount1_defaultmissingrates_Chr18Pt2of2.snp.pass.traw.gz.csv\n",
      "We will skip this\n",
      "\n",
      "There already exists output for /expanse/lustre/projects/osu123/naglemi/SKAT_testing/Results_transfGWAS//job-portion_transgenic_Shoot_AS_wk7_resid-1323_cohort_mincount1_defaultmissingrates_Chr19Pt1of2-PConly/pheno-portion_transgenic_Shoot_AS_wk7_resid.header.pheno-scaff-1323_cohort_mincount1_defaultmissingrates_Chr19Pt1of2.snp.pass.traw.gz.csv\n",
      "We will skip this\n",
      "\n",
      "There already exists output for /expanse/lustre/projects/osu123/naglemi/SKAT_testing/Results_transfGWAS//job-portion_transgenic_Shoot_AS_wk7_resid-1323_cohort_mincount1_defaultmissingrates_Chr19Pt2of2-PConly/pheno-portion_transgenic_Shoot_AS_wk7_resid.header.pheno-scaff-1323_cohort_mincount1_defaultmissingrates_Chr19Pt2of2.snp.pass.traw.gz.csv\n",
      "We will skip this\n",
      "\n",
      "There already exists output for /expanse/lustre/projects/osu123/naglemi/SKAT_testing/Results_transfGWAS//job-portion_transgenic_Shoot_AS_wk7_resid-1323_cohort_mincount1_defaultmissingrates_Chr1Pt1of8-PConly/pheno-portion_transgenic_Shoot_AS_wk7_resid.header.pheno-scaff-1323_cohort_mincount1_defaultmissingrates_Chr1Pt1of8.snp.pass.traw.gz.csv\n",
      "We will skip this\n",
      "\n",
      "There already exists output for /expanse/lustre/projects/osu123/naglemi/SKAT_testing/Results_transfGWAS//job-portion_transgenic_Shoot_AS_wk7_resid-1323_cohort_mincount1_defaultmissingrates_Chr1Pt2of8-PConly/pheno-portion_transgenic_Shoot_AS_wk7_resid.header.pheno-scaff-1323_cohort_mincount1_defaultmissingrates_Chr1Pt2of8.snp.pass.traw.gz.csv\n",
      "We will skip this\n",
      "\n",
      "There already exists output for /expanse/lustre/projects/osu123/naglemi/SKAT_testing/Results_transfGWAS//job-portion_transgenic_Shoot_AS_wk7_resid-1323_cohort_mincount1_defaultmissingrates_Chr1Pt3of8-PConly/pheno-portion_transgenic_Shoot_AS_wk7_resid.header.pheno-scaff-1323_cohort_mincount1_defaultmissingrates_Chr1Pt3of8.snp.pass.traw.gz.csv\n",
      "We will skip this\n",
      "\n",
      "There already exists output for /expanse/lustre/projects/osu123/naglemi/SKAT_testing/Results_transfGWAS//job-portion_transgenic_Shoot_AS_wk7_resid-1323_cohort_mincount1_defaultmissingrates_Chr1Pt4of8-PConly/pheno-portion_transgenic_Shoot_AS_wk7_resid.header.pheno-scaff-1323_cohort_mincount1_defaultmissingrates_Chr1Pt4of8.snp.pass.traw.gz.csv\n",
      "We will skip this\n",
      "\n",
      "There already exists output for /expanse/lustre/projects/osu123/naglemi/SKAT_testing/Results_transfGWAS//job-portion_transgenic_Shoot_AS_wk7_resid-1323_cohort_mincount1_defaultmissingrates_Chr1Pt5of8-PConly/pheno-portion_transgenic_Shoot_AS_wk7_resid.header.pheno-scaff-1323_cohort_mincount1_defaultmissingrates_Chr1Pt5of8.snp.pass.traw.gz.csv\n",
      "We will skip this\n",
      "\n",
      "There already exists output for /expanse/lustre/projects/osu123/naglemi/SKAT_testing/Results_transfGWAS//job-portion_transgenic_Shoot_AS_wk7_resid-1323_cohort_mincount1_defaultmissingrates_Chr1Pt6of8-PConly/pheno-portion_transgenic_Shoot_AS_wk7_resid.header.pheno-scaff-1323_cohort_mincount1_defaultmissingrates_Chr1Pt6of8.snp.pass.traw.gz.csv\n",
      "We will skip this\n",
      "\n",
      "There already exists output for /expanse/lustre/projects/osu123/naglemi/SKAT_testing/Results_transfGWAS//job-portion_transgenic_Shoot_AS_wk7_resid-1323_cohort_mincount1_defaultmissingrates_Chr1Pt7of8-PConly/pheno-portion_transgenic_Shoot_AS_wk7_resid.header.pheno-scaff-1323_cohort_mincount1_defaultmissingrates_Chr1Pt7of8.snp.pass.traw.gz.csv\n",
      "We will skip this\n",
      "\n",
      "There already exists output for /expanse/lustre/projects/osu123/naglemi/SKAT_testing/Results_transfGWAS//job-portion_transgenic_Shoot_AS_wk7_resid-1323_cohort_mincount1_defaultmissingrates_Chr1Pt8of8-PConly/pheno-portion_transgenic_Shoot_AS_wk7_resid.header.pheno-scaff-1323_cohort_mincount1_defaultmissingrates_Chr1Pt8of8.snp.pass.traw.gz.csv\n",
      "We will skip this\n",
      "\n",
      "There already exists output for /expanse/lustre/projects/osu123/naglemi/SKAT_testing/Results_transfGWAS//job-portion_transgenic_Shoot_AS_wk7_resid-1323_cohort_mincount1_defaultmissingrates_Chr2Pt1of4-PConly/pheno-portion_transgenic_Shoot_AS_wk7_resid.header.pheno-scaff-1323_cohort_mincount1_defaultmissingrates_Chr2Pt1of4.snp.pass.traw.gz.csv\n",
      "We will skip this\n",
      "\n",
      "There already exists output for /expanse/lustre/projects/osu123/naglemi/SKAT_testing/Results_transfGWAS//job-portion_transgenic_Shoot_AS_wk7_resid-1323_cohort_mincount1_defaultmissingrates_Chr2Pt2of4-PConly/pheno-portion_transgenic_Shoot_AS_wk7_resid.header.pheno-scaff-1323_cohort_mincount1_defaultmissingrates_Chr2Pt2of4.snp.pass.traw.gz.csv\n",
      "We will skip this\n",
      "\n",
      "There already exists output for /expanse/lustre/projects/osu123/naglemi/SKAT_testing/Results_transfGWAS//job-portion_transgenic_Shoot_AS_wk7_resid-1323_cohort_mincount1_defaultmissingrates_Chr2Pt3of4-PConly/pheno-portion_transgenic_Shoot_AS_wk7_resid.header.pheno-scaff-1323_cohort_mincount1_defaultmissingrates_Chr2Pt3of4.snp.pass.traw.gz.csv\n",
      "We will skip this\n",
      "\n",
      "There already exists output for /expanse/lustre/projects/osu123/naglemi/SKAT_testing/Results_transfGWAS//job-portion_transgenic_Shoot_AS_wk7_resid-1323_cohort_mincount1_defaultmissingrates_Chr2Pt4of4-PConly/pheno-portion_transgenic_Shoot_AS_wk7_resid.header.pheno-scaff-1323_cohort_mincount1_defaultmissingrates_Chr2Pt4of4.snp.pass.traw.gz.csv\n",
      "We will skip this\n",
      "\n",
      "There already exists output for /expanse/lustre/projects/osu123/naglemi/SKAT_testing/Results_transfGWAS//job-portion_transgenic_Shoot_AS_wk7_resid-1323_cohort_mincount1_defaultmissingrates_Chr3Pt1of2-PConly/pheno-portion_transgenic_Shoot_AS_wk7_resid.header.pheno-scaff-1323_cohort_mincount1_defaultmissingrates_Chr3Pt1of2.snp.pass.traw.gz.csv\n",
      "We will skip this\n",
      "\n",
      "There already exists output for /expanse/lustre/projects/osu123/naglemi/SKAT_testing/Results_transfGWAS//job-portion_transgenic_Shoot_AS_wk7_resid-1323_cohort_mincount1_defaultmissingrates_Chr3Pt2of2-PConly/pheno-portion_transgenic_Shoot_AS_wk7_resid.header.pheno-scaff-1323_cohort_mincount1_defaultmissingrates_Chr3Pt2of2.snp.pass.traw.gz.csv\n",
      "We will skip this\n",
      "\n",
      "There already exists output for /expanse/lustre/projects/osu123/naglemi/SKAT_testing/Results_transfGWAS//job-portion_transgenic_Shoot_AS_wk7_resid-1323_cohort_mincount1_defaultmissingrates_Chr4Pt1of4-PConly/pheno-portion_transgenic_Shoot_AS_wk7_resid.header.pheno-scaff-1323_cohort_mincount1_defaultmissingrates_Chr4Pt1of4.snp.pass.traw.gz.csv\n",
      "We will skip this\n",
      "\n",
      "There already exists output for /expanse/lustre/projects/osu123/naglemi/SKAT_testing/Results_transfGWAS//job-portion_transgenic_Shoot_AS_wk7_resid-1323_cohort_mincount1_defaultmissingrates_Chr4Pt2of4-PConly/pheno-portion_transgenic_Shoot_AS_wk7_resid.header.pheno-scaff-1323_cohort_mincount1_defaultmissingrates_Chr4Pt2of4.snp.pass.traw.gz.csv\n",
      "We will skip this\n",
      "\n",
      "There already exists output for /expanse/lustre/projects/osu123/naglemi/SKAT_testing/Results_transfGWAS//job-portion_transgenic_Shoot_AS_wk7_resid-1323_cohort_mincount1_defaultmissingrates_Chr4Pt3of4-PConly/pheno-portion_transgenic_Shoot_AS_wk7_resid.header.pheno-scaff-1323_cohort_mincount1_defaultmissingrates_Chr4Pt3of4.snp.pass.traw.gz.csv\n",
      "We will skip this\n",
      "\n",
      "There already exists output for /expanse/lustre/projects/osu123/naglemi/SKAT_testing/Results_transfGWAS//job-portion_transgenic_Shoot_AS_wk7_resid-1323_cohort_mincount1_defaultmissingrates_Chr4Pt4of4-PConly/pheno-portion_transgenic_Shoot_AS_wk7_resid.header.pheno-scaff-1323_cohort_mincount1_defaultmissingrates_Chr4Pt4of4.snp.pass.traw.gz.csv\n",
      "We will skip this\n",
      "\n",
      "There already exists output for /expanse/lustre/projects/osu123/naglemi/SKAT_testing/Results_transfGWAS//job-portion_transgenic_Shoot_AS_wk7_resid-1323_cohort_mincount1_defaultmissingrates_Chr5Pt1of4-PConly/pheno-portion_transgenic_Shoot_AS_wk7_resid.header.pheno-scaff-1323_cohort_mincount1_defaultmissingrates_Chr5Pt1of4.snp.pass.traw.gz.csv\n",
      "We will skip this\n",
      "\n",
      "There already exists output for /expanse/lustre/projects/osu123/naglemi/SKAT_testing/Results_transfGWAS//job-portion_transgenic_Shoot_AS_wk7_resid-1323_cohort_mincount1_defaultmissingrates_Chr5Pt2of4-PConly/pheno-portion_transgenic_Shoot_AS_wk7_resid.header.pheno-scaff-1323_cohort_mincount1_defaultmissingrates_Chr5Pt2of4.snp.pass.traw.gz.csv\n",
      "We will skip this\n",
      "\n",
      "There already exists output for /expanse/lustre/projects/osu123/naglemi/SKAT_testing/Results_transfGWAS//job-portion_transgenic_Shoot_AS_wk7_resid-1323_cohort_mincount1_defaultmissingrates_Chr5Pt3of4-PConly/pheno-portion_transgenic_Shoot_AS_wk7_resid.header.pheno-scaff-1323_cohort_mincount1_defaultmissingrates_Chr5Pt3of4.snp.pass.traw.gz.csv\n",
      "We will skip this\n",
      "\n",
      "There already exists output for /expanse/lustre/projects/osu123/naglemi/SKAT_testing/Results_transfGWAS//job-portion_transgenic_Shoot_AS_wk7_resid-1323_cohort_mincount1_defaultmissingrates_Chr5Pt4of4-PConly/pheno-portion_transgenic_Shoot_AS_wk7_resid.header.pheno-scaff-1323_cohort_mincount1_defaultmissingrates_Chr5Pt4of4.snp.pass.traw.gz.csv\n",
      "We will skip this\n",
      "\n",
      "There already exists output for /expanse/lustre/projects/osu123/naglemi/SKAT_testing/Results_transfGWAS//job-portion_transgenic_Shoot_AS_wk7_resid-1323_cohort_mincount1_defaultmissingrates_Chr6Pt1of4-PConly/pheno-portion_transgenic_Shoot_AS_wk7_resid.header.pheno-scaff-1323_cohort_mincount1_defaultmissingrates_Chr6Pt1of4.snp.pass.traw.gz.csv\n",
      "We will skip this\n",
      "\n",
      "There already exists output for /expanse/lustre/projects/osu123/naglemi/SKAT_testing/Results_transfGWAS//job-portion_transgenic_Shoot_AS_wk7_resid-1323_cohort_mincount1_defaultmissingrates_Chr6Pt2of4-PConly/pheno-portion_transgenic_Shoot_AS_wk7_resid.header.pheno-scaff-1323_cohort_mincount1_defaultmissingrates_Chr6Pt2of4.snp.pass.traw.gz.csv\n",
      "We will skip this\n",
      "\n",
      "There already exists output for /expanse/lustre/projects/osu123/naglemi/SKAT_testing/Results_transfGWAS//job-portion_transgenic_Shoot_AS_wk7_resid-1323_cohort_mincount1_defaultmissingrates_Chr6Pt3of4-PConly/pheno-portion_transgenic_Shoot_AS_wk7_resid.header.pheno-scaff-1323_cohort_mincount1_defaultmissingrates_Chr6Pt3of4.snp.pass.traw.gz.csv\n",
      "We will skip this\n",
      "\n",
      "There already exists output for /expanse/lustre/projects/osu123/naglemi/SKAT_testing/Results_transfGWAS//job-portion_transgenic_Shoot_AS_wk7_resid-1323_cohort_mincount1_defaultmissingrates_Chr6Pt4of4-PConly/pheno-portion_transgenic_Shoot_AS_wk7_resid.header.pheno-scaff-1323_cohort_mincount1_defaultmissingrates_Chr6Pt4of4.snp.pass.traw.gz.csv\n",
      "We will skip this\n",
      "\n",
      "There already exists output for /expanse/lustre/projects/osu123/naglemi/SKAT_testing/Results_transfGWAS//job-portion_transgenic_Shoot_AS_wk7_resid-1323_cohort_mincount1_defaultmissingrates_Chr7Pt1of2-PConly/pheno-portion_transgenic_Shoot_AS_wk7_resid.header.pheno-scaff-1323_cohort_mincount1_defaultmissingrates_Chr7Pt1of2.snp.pass.traw.gz.csv\n",
      "We will skip this\n",
      "\n",
      "There already exists output for /expanse/lustre/projects/osu123/naglemi/SKAT_testing/Results_transfGWAS//job-portion_transgenic_Shoot_AS_wk7_resid-1323_cohort_mincount1_defaultmissingrates_Chr7Pt2of2-PConly/pheno-portion_transgenic_Shoot_AS_wk7_resid.header.pheno-scaff-1323_cohort_mincount1_defaultmissingrates_Chr7Pt2of2.snp.pass.traw.gz.csv\n",
      "We will skip this\n",
      "\n",
      "There already exists output for /expanse/lustre/projects/osu123/naglemi/SKAT_testing/Results_transfGWAS//job-portion_transgenic_Shoot_AS_wk7_resid-1323_cohort_mincount1_defaultmissingrates_Chr8Pt1of2-PConly/pheno-portion_transgenic_Shoot_AS_wk7_resid.header.pheno-scaff-1323_cohort_mincount1_defaultmissingrates_Chr8Pt1of2.snp.pass.traw.gz.csv\n",
      "We will skip this\n",
      "\n",
      "There already exists output for /expanse/lustre/projects/osu123/naglemi/SKAT_testing/Results_transfGWAS//job-portion_transgenic_Shoot_AS_wk7_resid-1323_cohort_mincount1_defaultmissingrates_Chr8Pt2of2-PConly/pheno-portion_transgenic_Shoot_AS_wk7_resid.header.pheno-scaff-1323_cohort_mincount1_defaultmissingrates_Chr8Pt2of2.snp.pass.traw.gz.csv\n",
      "We will skip this\n",
      "\n",
      "There already exists output for /expanse/lustre/projects/osu123/naglemi/SKAT_testing/Results_transfGWAS//job-portion_transgenic_Shoot_AS_wk7_resid-1323_cohort_mincount1_defaultmissingrates_Chr9Pt1of2-PConly/pheno-portion_transgenic_Shoot_AS_wk7_resid.header.pheno-scaff-1323_cohort_mincount1_defaultmissingrates_Chr9Pt1of2.snp.pass.traw.gz.csv\n",
      "We will skip this\n",
      "\n",
      "There already exists output for /expanse/lustre/projects/osu123/naglemi/SKAT_testing/Results_transfGWAS//job-portion_transgenic_Shoot_AS_wk7_resid-1323_cohort_mincount1_defaultmissingrates_Chr9Pt2of2-PConly/pheno-portion_transgenic_Shoot_AS_wk7_resid.header.pheno-scaff-1323_cohort_mincount1_defaultmissingrates_Chr9Pt2of2.snp.pass.traw.gz.csv\n",
      "We will skip this\n",
      "\n",
      "There already exists output for /expanse/lustre/projects/osu123/naglemi/SKAT_testing/Results_transfGWAS//job-shoot_transformation_PC2-uv_resid-1323_cohort_mincount1_defaultmissingrates_Chr10Pt1of2-PConly/pheno-shoot_transformation_PC2-uv_resid.header.pheno-scaff-1323_cohort_mincount1_defaultmissingrates_Chr10Pt1of2.snp.pass.traw.gz.csv\n",
      "We will skip this\n",
      "\n",
      "There already exists output for /expanse/lustre/projects/osu123/naglemi/SKAT_testing/Results_transfGWAS//job-shoot_transformation_PC2-uv_resid-1323_cohort_mincount1_defaultmissingrates_Chr10Pt2of2-PConly/pheno-shoot_transformation_PC2-uv_resid.header.pheno-scaff-1323_cohort_mincount1_defaultmissingrates_Chr10Pt2of2.snp.pass.traw.gz.csv\n",
      "We will skip this\n",
      "\n",
      "There already exists output for /expanse/lustre/projects/osu123/naglemi/SKAT_testing/Results_transfGWAS//job-shoot_transformation_PC2-uv_resid-1323_cohort_mincount1_defaultmissingrates_Chr11Pt1of2-PConly/pheno-shoot_transformation_PC2-uv_resid.header.pheno-scaff-1323_cohort_mincount1_defaultmissingrates_Chr11Pt1of2.snp.pass.traw.gz.csv\n",
      "We will skip this\n",
      "\n",
      "There already exists output for /expanse/lustre/projects/osu123/naglemi/SKAT_testing/Results_transfGWAS//job-shoot_transformation_PC2-uv_resid-1323_cohort_mincount1_defaultmissingrates_Chr11Pt2of2-PConly/pheno-shoot_transformation_PC2-uv_resid.header.pheno-scaff-1323_cohort_mincount1_defaultmissingrates_Chr11Pt2of2.snp.pass.traw.gz.csv\n",
      "We will skip this\n",
      "\n",
      "There already exists output for /expanse/lustre/projects/osu123/naglemi/SKAT_testing/Results_transfGWAS//job-shoot_transformation_PC2-uv_resid-1323_cohort_mincount1_defaultmissingrates_Chr12Pt1of2-PConly/pheno-shoot_transformation_PC2-uv_resid.header.pheno-scaff-1323_cohort_mincount1_defaultmissingrates_Chr12Pt1of2.snp.pass.traw.gz.csv\n",
      "We will skip this\n",
      "\n",
      "There already exists output for /expanse/lustre/projects/osu123/naglemi/SKAT_testing/Results_transfGWAS//job-shoot_transformation_PC2-uv_resid-1323_cohort_mincount1_defaultmissingrates_Chr12Pt2of2-PConly/pheno-shoot_transformation_PC2-uv_resid.header.pheno-scaff-1323_cohort_mincount1_defaultmissingrates_Chr12Pt2of2.snp.pass.traw.gz.csv\n",
      "We will skip this\n",
      "\n",
      "There already exists output for /expanse/lustre/projects/osu123/naglemi/SKAT_testing/Results_transfGWAS//job-shoot_transformation_PC2-uv_resid-1323_cohort_mincount1_defaultmissingrates_Chr13Pt1of2-PConly/pheno-shoot_transformation_PC2-uv_resid.header.pheno-scaff-1323_cohort_mincount1_defaultmissingrates_Chr13Pt1of2.snp.pass.traw.gz.csv\n",
      "We will skip this\n",
      "\n",
      "Will spawn job /expanse/lustre/projects/osu123/naglemi/SKAT_testing/Results_transfGWAS//job-shoot_transformation_PC2-uv_resid-1323_cohort_mincount1_defaultmissingrates_Chr13Pt2of2-PConly/pheno-shoot_transformation_PC2-uv_resid.header.pheno-scaff-1323_cohort_mincount1_defaultmissingrates_Chr13Pt2of2.snp.pass.traw.gz.csv\n",
      "\n"
     ]
    },
    {
     "name": "stdout",
     "output_type": "stream",
     "text": [
      "[1] \"2022-10-15 01:10:21 PDT\"\n",
      "[1] \"Not skipping...\"\n",
      "[1] \"2022-10-15 01:10:21 PDT\"\n",
      "\n",
      "\n"
     ]
    },
    {
     "name": "stderr",
     "output_type": "stream",
     "text": [
      "Will spawn job /expanse/lustre/projects/osu123/naglemi/SKAT_testing/Results_transfGWAS//job-shoot_transformation_PC2-uv_resid-1323_cohort_mincount1_defaultmissingrates_Chr14Pt1of2-PConly/pheno-shoot_transformation_PC2-uv_resid.header.pheno-scaff-1323_cohort_mincount1_defaultmissingrates_Chr14Pt1of2.snp.pass.traw.gz.csv\n",
      "\n"
     ]
    },
    {
     "name": "stdout",
     "output_type": "stream",
     "text": [
      "[1] \"2022-10-15 01:15:21 PDT\"\n",
      "[1] \"Not skipping...\"\n",
      "[1] \"2022-10-15 01:15:21 PDT\"\n",
      "\n",
      "\n"
     ]
    },
    {
     "name": "stderr",
     "output_type": "stream",
     "text": [
      "Will spawn job /expanse/lustre/projects/osu123/naglemi/SKAT_testing/Results_transfGWAS//job-shoot_transformation_PC2-uv_resid-1323_cohort_mincount1_defaultmissingrates_Chr14Pt2of2-PConly/pheno-shoot_transformation_PC2-uv_resid.header.pheno-scaff-1323_cohort_mincount1_defaultmissingrates_Chr14Pt2of2.snp.pass.traw.gz.csv\n",
      "\n"
     ]
    },
    {
     "name": "stdout",
     "output_type": "stream",
     "text": [
      "[1] \"2022-10-15 01:20:21 PDT\"\n",
      "[1] \"Not skipping...\"\n",
      "[1] \"2022-10-15 01:20:21 PDT\"\n",
      "\n",
      "\n"
     ]
    },
    {
     "name": "stderr",
     "output_type": "stream",
     "text": [
      "Will spawn job /expanse/lustre/projects/osu123/naglemi/SKAT_testing/Results_transfGWAS//job-shoot_transformation_PC2-uv_resid-1323_cohort_mincount1_defaultmissingrates_Chr15Pt1of2-PConly/pheno-shoot_transformation_PC2-uv_resid.header.pheno-scaff-1323_cohort_mincount1_defaultmissingrates_Chr15Pt1of2.snp.pass.traw.gz.csv\n",
      "\n"
     ]
    },
    {
     "name": "stdout",
     "output_type": "stream",
     "text": [
      "[1] \"2022-10-15 01:25:21 PDT\"\n",
      "[1] \"Not skipping...\"\n",
      "[1] \"2022-10-15 01:25:22 PDT\"\n",
      "\n",
      "\n"
     ]
    },
    {
     "name": "stderr",
     "output_type": "stream",
     "text": [
      "Will spawn job /expanse/lustre/projects/osu123/naglemi/SKAT_testing/Results_transfGWAS//job-shoot_transformation_PC2-uv_resid-1323_cohort_mincount1_defaultmissingrates_Chr15Pt2of2-PConly/pheno-shoot_transformation_PC2-uv_resid.header.pheno-scaff-1323_cohort_mincount1_defaultmissingrates_Chr15Pt2of2.snp.pass.traw.gz.csv\n",
      "\n"
     ]
    },
    {
     "name": "stdout",
     "output_type": "stream",
     "text": [
      "[1] \"2022-10-15 01:30:22 PDT\"\n",
      "[1] \"Not skipping...\"\n",
      "[1] \"2022-10-15 01:30:22 PDT\"\n",
      "\n",
      "\n"
     ]
    },
    {
     "name": "stderr",
     "output_type": "stream",
     "text": [
      "Will spawn job /expanse/lustre/projects/osu123/naglemi/SKAT_testing/Results_transfGWAS//job-shoot_transformation_PC2-uv_resid-1323_cohort_mincount1_defaultmissingrates_Chr16Pt1of2-PConly/pheno-shoot_transformation_PC2-uv_resid.header.pheno-scaff-1323_cohort_mincount1_defaultmissingrates_Chr16Pt1of2.snp.pass.traw.gz.csv\n",
      "\n"
     ]
    },
    {
     "name": "stdout",
     "output_type": "stream",
     "text": [
      "[1] \"2022-10-15 01:35:22 PDT\"\n",
      "[1] \"Not skipping...\"\n",
      "[1] \"2022-10-15 01:35:22 PDT\"\n",
      "\n",
      "\n"
     ]
    },
    {
     "name": "stderr",
     "output_type": "stream",
     "text": [
      "Will spawn job /expanse/lustre/projects/osu123/naglemi/SKAT_testing/Results_transfGWAS//job-shoot_transformation_PC2-uv_resid-1323_cohort_mincount1_defaultmissingrates_Chr16Pt2of2-PConly/pheno-shoot_transformation_PC2-uv_resid.header.pheno-scaff-1323_cohort_mincount1_defaultmissingrates_Chr16Pt2of2.snp.pass.traw.gz.csv\n",
      "\n"
     ]
    },
    {
     "name": "stdout",
     "output_type": "stream",
     "text": [
      "[1] \"2022-10-15 01:40:22 PDT\"\n",
      "[1] \"Not skipping...\"\n",
      "[1] \"2022-10-15 01:40:22 PDT\"\n",
      "\n",
      "\n"
     ]
    },
    {
     "name": "stderr",
     "output_type": "stream",
     "text": [
      "Will spawn job /expanse/lustre/projects/osu123/naglemi/SKAT_testing/Results_transfGWAS//job-shoot_transformation_PC2-uv_resid-1323_cohort_mincount1_defaultmissingrates_Chr17Pt1of2-PConly/pheno-shoot_transformation_PC2-uv_resid.header.pheno-scaff-1323_cohort_mincount1_defaultmissingrates_Chr17Pt1of2.snp.pass.traw.gz.csv\n",
      "\n"
     ]
    },
    {
     "name": "stdout",
     "output_type": "stream",
     "text": [
      "[1] \"2022-10-15 01:45:22 PDT\"\n",
      "[1] \"Not skipping...\"\n",
      "[1] \"2022-10-15 01:45:22 PDT\"\n",
      "\n",
      "\n"
     ]
    },
    {
     "name": "stderr",
     "output_type": "stream",
     "text": [
      "Will spawn job /expanse/lustre/projects/osu123/naglemi/SKAT_testing/Results_transfGWAS//job-shoot_transformation_PC2-uv_resid-1323_cohort_mincount1_defaultmissingrates_Chr17Pt2of2-PConly/pheno-shoot_transformation_PC2-uv_resid.header.pheno-scaff-1323_cohort_mincount1_defaultmissingrates_Chr17Pt2of2.snp.pass.traw.gz.csv\n",
      "\n"
     ]
    },
    {
     "name": "stdout",
     "output_type": "stream",
     "text": [
      "[1] \"2022-10-15 01:50:22 PDT\"\n",
      "[1] \"Not skipping...\"\n",
      "[1] \"2022-10-15 01:50:22 PDT\"\n",
      "\n",
      "\n"
     ]
    },
    {
     "name": "stderr",
     "output_type": "stream",
     "text": [
      "There already exists output for /expanse/lustre/projects/osu123/naglemi/SKAT_testing/Results_transfGWAS//job-shoot_transformation_PC2-uv_resid-1323_cohort_mincount1_defaultmissingrates_Chr18Pt1of2-PConly/pheno-shoot_transformation_PC2-uv_resid.header.pheno-scaff-1323_cohort_mincount1_defaultmissingrates_Chr18Pt1of2.snp.pass.traw.gz.csv\n",
      "We will skip this\n",
      "\n",
      "There already exists output for /expanse/lustre/projects/osu123/naglemi/SKAT_testing/Results_transfGWAS//job-shoot_transformation_PC2-uv_resid-1323_cohort_mincount1_defaultmissingrates_Chr18Pt2of2-PConly/pheno-shoot_transformation_PC2-uv_resid.header.pheno-scaff-1323_cohort_mincount1_defaultmissingrates_Chr18Pt2of2.snp.pass.traw.gz.csv\n",
      "We will skip this\n",
      "\n",
      "There already exists output for /expanse/lustre/projects/osu123/naglemi/SKAT_testing/Results_transfGWAS//job-shoot_transformation_PC2-uv_resid-1323_cohort_mincount1_defaultmissingrates_Chr19Pt1of2-PConly/pheno-shoot_transformation_PC2-uv_resid.header.pheno-scaff-1323_cohort_mincount1_defaultmissingrates_Chr19Pt1of2.snp.pass.traw.gz.csv\n",
      "We will skip this\n",
      "\n",
      "There already exists output for /expanse/lustre/projects/osu123/naglemi/SKAT_testing/Results_transfGWAS//job-shoot_transformation_PC2-uv_resid-1323_cohort_mincount1_defaultmissingrates_Chr19Pt2of2-PConly/pheno-shoot_transformation_PC2-uv_resid.header.pheno-scaff-1323_cohort_mincount1_defaultmissingrates_Chr19Pt2of2.snp.pass.traw.gz.csv\n",
      "We will skip this\n",
      "\n",
      "There already exists output for /expanse/lustre/projects/osu123/naglemi/SKAT_testing/Results_transfGWAS//job-shoot_transformation_PC2-uv_resid-1323_cohort_mincount1_defaultmissingrates_Chr1Pt1of8-PConly/pheno-shoot_transformation_PC2-uv_resid.header.pheno-scaff-1323_cohort_mincount1_defaultmissingrates_Chr1Pt1of8.snp.pass.traw.gz.csv\n",
      "We will skip this\n",
      "\n",
      "There already exists output for /expanse/lustre/projects/osu123/naglemi/SKAT_testing/Results_transfGWAS//job-shoot_transformation_PC2-uv_resid-1323_cohort_mincount1_defaultmissingrates_Chr1Pt2of8-PConly/pheno-shoot_transformation_PC2-uv_resid.header.pheno-scaff-1323_cohort_mincount1_defaultmissingrates_Chr1Pt2of8.snp.pass.traw.gz.csv\n",
      "We will skip this\n",
      "\n",
      "There already exists output for /expanse/lustre/projects/osu123/naglemi/SKAT_testing/Results_transfGWAS//job-shoot_transformation_PC2-uv_resid-1323_cohort_mincount1_defaultmissingrates_Chr1Pt3of8-PConly/pheno-shoot_transformation_PC2-uv_resid.header.pheno-scaff-1323_cohort_mincount1_defaultmissingrates_Chr1Pt3of8.snp.pass.traw.gz.csv\n",
      "We will skip this\n",
      "\n",
      "There already exists output for /expanse/lustre/projects/osu123/naglemi/SKAT_testing/Results_transfGWAS//job-shoot_transformation_PC2-uv_resid-1323_cohort_mincount1_defaultmissingrates_Chr1Pt4of8-PConly/pheno-shoot_transformation_PC2-uv_resid.header.pheno-scaff-1323_cohort_mincount1_defaultmissingrates_Chr1Pt4of8.snp.pass.traw.gz.csv\n",
      "We will skip this\n",
      "\n",
      "Will spawn job /expanse/lustre/projects/osu123/naglemi/SKAT_testing/Results_transfGWAS//job-shoot_transformation_PC2-uv_resid-1323_cohort_mincount1_defaultmissingrates_Chr1Pt5of8-PConly/pheno-shoot_transformation_PC2-uv_resid.header.pheno-scaff-1323_cohort_mincount1_defaultmissingrates_Chr1Pt5of8.snp.pass.traw.gz.csv\n",
      "\n"
     ]
    },
    {
     "name": "stdout",
     "output_type": "stream",
     "text": [
      "[1] \"2022-10-15 01:55:23 PDT\"\n",
      "[1] \"Not skipping...\"\n",
      "[1] \"2022-10-15 01:55:23 PDT\"\n",
      "\n",
      "\n"
     ]
    },
    {
     "name": "stderr",
     "output_type": "stream",
     "text": [
      "There already exists output for /expanse/lustre/projects/osu123/naglemi/SKAT_testing/Results_transfGWAS//job-shoot_transformation_PC2-uv_resid-1323_cohort_mincount1_defaultmissingrates_Chr1Pt6of8-PConly/pheno-shoot_transformation_PC2-uv_resid.header.pheno-scaff-1323_cohort_mincount1_defaultmissingrates_Chr1Pt6of8.snp.pass.traw.gz.csv\n",
      "We will skip this\n",
      "\n",
      "Will spawn job /expanse/lustre/projects/osu123/naglemi/SKAT_testing/Results_transfGWAS//job-shoot_transformation_PC2-uv_resid-1323_cohort_mincount1_defaultmissingrates_Chr1Pt7of8-PConly/pheno-shoot_transformation_PC2-uv_resid.header.pheno-scaff-1323_cohort_mincount1_defaultmissingrates_Chr1Pt7of8.snp.pass.traw.gz.csv\n",
      "\n"
     ]
    },
    {
     "name": "stdout",
     "output_type": "stream",
     "text": [
      "[1] \"2022-10-15 02:00:23 PDT\"\n",
      "[1] \"Not skipping...\"\n",
      "[1] \"2022-10-15 02:00:23 PDT\"\n",
      "\n",
      "\n"
     ]
    },
    {
     "name": "stderr",
     "output_type": "stream",
     "text": [
      "Will spawn job /expanse/lustre/projects/osu123/naglemi/SKAT_testing/Results_transfGWAS//job-shoot_transformation_PC2-uv_resid-1323_cohort_mincount1_defaultmissingrates_Chr1Pt8of8-PConly/pheno-shoot_transformation_PC2-uv_resid.header.pheno-scaff-1323_cohort_mincount1_defaultmissingrates_Chr1Pt8of8.snp.pass.traw.gz.csv\n",
      "\n"
     ]
    },
    {
     "name": "stdout",
     "output_type": "stream",
     "text": [
      "[1] \"2022-10-15 02:05:23 PDT\"\n",
      "[1] \"Not skipping...\"\n",
      "[1] \"2022-10-15 02:05:23 PDT\"\n",
      "\n",
      "\n"
     ]
    },
    {
     "name": "stderr",
     "output_type": "stream",
     "text": [
      "Will spawn job /expanse/lustre/projects/osu123/naglemi/SKAT_testing/Results_transfGWAS//job-shoot_transformation_PC2-uv_resid-1323_cohort_mincount1_defaultmissingrates_Chr2Pt1of4-PConly/pheno-shoot_transformation_PC2-uv_resid.header.pheno-scaff-1323_cohort_mincount1_defaultmissingrates_Chr2Pt1of4.snp.pass.traw.gz.csv\n",
      "\n"
     ]
    },
    {
     "name": "stdout",
     "output_type": "stream",
     "text": [
      "[1] \"2022-10-15 02:10:24 PDT\"\n",
      "[1] \"Not skipping...\"\n",
      "[1] \"2022-10-15 02:10:24 PDT\"\n",
      "\n",
      "\n"
     ]
    },
    {
     "name": "stderr",
     "output_type": "stream",
     "text": [
      "There already exists output for /expanse/lustre/projects/osu123/naglemi/SKAT_testing/Results_transfGWAS//job-shoot_transformation_PC2-uv_resid-1323_cohort_mincount1_defaultmissingrates_Chr2Pt2of4-PConly/pheno-shoot_transformation_PC2-uv_resid.header.pheno-scaff-1323_cohort_mincount1_defaultmissingrates_Chr2Pt2of4.snp.pass.traw.gz.csv\n",
      "We will skip this\n",
      "\n",
      "There already exists output for /expanse/lustre/projects/osu123/naglemi/SKAT_testing/Results_transfGWAS//job-shoot_transformation_PC2-uv_resid-1323_cohort_mincount1_defaultmissingrates_Chr2Pt3of4-PConly/pheno-shoot_transformation_PC2-uv_resid.header.pheno-scaff-1323_cohort_mincount1_defaultmissingrates_Chr2Pt3of4.snp.pass.traw.gz.csv\n",
      "We will skip this\n",
      "\n",
      "There already exists output for /expanse/lustre/projects/osu123/naglemi/SKAT_testing/Results_transfGWAS//job-shoot_transformation_PC2-uv_resid-1323_cohort_mincount1_defaultmissingrates_Chr2Pt4of4-PConly/pheno-shoot_transformation_PC2-uv_resid.header.pheno-scaff-1323_cohort_mincount1_defaultmissingrates_Chr2Pt4of4.snp.pass.traw.gz.csv\n",
      "We will skip this\n",
      "\n",
      "There already exists output for /expanse/lustre/projects/osu123/naglemi/SKAT_testing/Results_transfGWAS//job-shoot_transformation_PC2-uv_resid-1323_cohort_mincount1_defaultmissingrates_Chr3Pt1of2-PConly/pheno-shoot_transformation_PC2-uv_resid.header.pheno-scaff-1323_cohort_mincount1_defaultmissingrates_Chr3Pt1of2.snp.pass.traw.gz.csv\n",
      "We will skip this\n",
      "\n",
      "There already exists output for /expanse/lustre/projects/osu123/naglemi/SKAT_testing/Results_transfGWAS//job-shoot_transformation_PC2-uv_resid-1323_cohort_mincount1_defaultmissingrates_Chr3Pt2of2-PConly/pheno-shoot_transformation_PC2-uv_resid.header.pheno-scaff-1323_cohort_mincount1_defaultmissingrates_Chr3Pt2of2.snp.pass.traw.gz.csv\n",
      "We will skip this\n",
      "\n",
      "There already exists output for /expanse/lustre/projects/osu123/naglemi/SKAT_testing/Results_transfGWAS//job-shoot_transformation_PC2-uv_resid-1323_cohort_mincount1_defaultmissingrates_Chr4Pt1of4-PConly/pheno-shoot_transformation_PC2-uv_resid.header.pheno-scaff-1323_cohort_mincount1_defaultmissingrates_Chr4Pt1of4.snp.pass.traw.gz.csv\n",
      "We will skip this\n",
      "\n",
      "There already exists output for /expanse/lustre/projects/osu123/naglemi/SKAT_testing/Results_transfGWAS//job-shoot_transformation_PC2-uv_resid-1323_cohort_mincount1_defaultmissingrates_Chr4Pt2of4-PConly/pheno-shoot_transformation_PC2-uv_resid.header.pheno-scaff-1323_cohort_mincount1_defaultmissingrates_Chr4Pt2of4.snp.pass.traw.gz.csv\n",
      "We will skip this\n",
      "\n",
      "There already exists output for /expanse/lustre/projects/osu123/naglemi/SKAT_testing/Results_transfGWAS//job-shoot_transformation_PC2-uv_resid-1323_cohort_mincount1_defaultmissingrates_Chr4Pt3of4-PConly/pheno-shoot_transformation_PC2-uv_resid.header.pheno-scaff-1323_cohort_mincount1_defaultmissingrates_Chr4Pt3of4.snp.pass.traw.gz.csv\n",
      "We will skip this\n",
      "\n",
      "There already exists output for /expanse/lustre/projects/osu123/naglemi/SKAT_testing/Results_transfGWAS//job-shoot_transformation_PC2-uv_resid-1323_cohort_mincount1_defaultmissingrates_Chr4Pt4of4-PConly/pheno-shoot_transformation_PC2-uv_resid.header.pheno-scaff-1323_cohort_mincount1_defaultmissingrates_Chr4Pt4of4.snp.pass.traw.gz.csv\n",
      "We will skip this\n",
      "\n",
      "Will spawn job /expanse/lustre/projects/osu123/naglemi/SKAT_testing/Results_transfGWAS//job-shoot_transformation_PC2-uv_resid-1323_cohort_mincount1_defaultmissingrates_Chr5Pt1of4-PConly/pheno-shoot_transformation_PC2-uv_resid.header.pheno-scaff-1323_cohort_mincount1_defaultmissingrates_Chr5Pt1of4.snp.pass.traw.gz.csv\n",
      "\n"
     ]
    },
    {
     "name": "stdout",
     "output_type": "stream",
     "text": [
      "[1] \"2022-10-15 02:15:24 PDT\"\n",
      "[1] \"Not skipping...\"\n",
      "[1] \"2022-10-15 02:15:24 PDT\"\n",
      "\n",
      "\n"
     ]
    },
    {
     "name": "stderr",
     "output_type": "stream",
     "text": [
      "Will spawn job /expanse/lustre/projects/osu123/naglemi/SKAT_testing/Results_transfGWAS//job-shoot_transformation_PC2-uv_resid-1323_cohort_mincount1_defaultmissingrates_Chr5Pt2of4-PConly/pheno-shoot_transformation_PC2-uv_resid.header.pheno-scaff-1323_cohort_mincount1_defaultmissingrates_Chr5Pt2of4.snp.pass.traw.gz.csv\n",
      "\n"
     ]
    },
    {
     "name": "stdout",
     "output_type": "stream",
     "text": [
      "[1] \"2022-10-15 02:20:24 PDT\"\n",
      "[1] \"Not skipping...\"\n",
      "[1] \"2022-10-15 02:20:24 PDT\"\n",
      "\n",
      "\n"
     ]
    },
    {
     "name": "stderr",
     "output_type": "stream",
     "text": [
      "Will spawn job /expanse/lustre/projects/osu123/naglemi/SKAT_testing/Results_transfGWAS//job-shoot_transformation_PC2-uv_resid-1323_cohort_mincount1_defaultmissingrates_Chr5Pt3of4-PConly/pheno-shoot_transformation_PC2-uv_resid.header.pheno-scaff-1323_cohort_mincount1_defaultmissingrates_Chr5Pt3of4.snp.pass.traw.gz.csv\n",
      "\n"
     ]
    },
    {
     "name": "stdout",
     "output_type": "stream",
     "text": [
      "[1] \"2022-10-15 02:25:24 PDT\"\n",
      "[1] \"Not skipping...\"\n",
      "[1] \"2022-10-15 02:25:25 PDT\"\n",
      "\n",
      "\n"
     ]
    },
    {
     "name": "stderr",
     "output_type": "stream",
     "text": [
      "Will spawn job /expanse/lustre/projects/osu123/naglemi/SKAT_testing/Results_transfGWAS//job-shoot_transformation_PC2-uv_resid-1323_cohort_mincount1_defaultmissingrates_Chr5Pt4of4-PConly/pheno-shoot_transformation_PC2-uv_resid.header.pheno-scaff-1323_cohort_mincount1_defaultmissingrates_Chr5Pt4of4.snp.pass.traw.gz.csv\n",
      "\n"
     ]
    },
    {
     "name": "stdout",
     "output_type": "stream",
     "text": [
      "[1] \"2022-10-15 02:30:25 PDT\"\n",
      "[1] \"Not skipping...\"\n",
      "[1] \"2022-10-15 02:30:25 PDT\"\n",
      "\n",
      "\n"
     ]
    },
    {
     "name": "stderr",
     "output_type": "stream",
     "text": [
      "Will spawn job /expanse/lustre/projects/osu123/naglemi/SKAT_testing/Results_transfGWAS//job-shoot_transformation_PC2-uv_resid-1323_cohort_mincount1_defaultmissingrates_Chr6Pt1of4-PConly/pheno-shoot_transformation_PC2-uv_resid.header.pheno-scaff-1323_cohort_mincount1_defaultmissingrates_Chr6Pt1of4.snp.pass.traw.gz.csv\n",
      "\n"
     ]
    },
    {
     "name": "stdout",
     "output_type": "stream",
     "text": [
      "[1] \"2022-10-15 02:35:25 PDT\"\n",
      "[1] \"Not skipping...\"\n",
      "[1] \"2022-10-15 02:35:25 PDT\"\n",
      "\n",
      "\n"
     ]
    },
    {
     "name": "stderr",
     "output_type": "stream",
     "text": [
      "Will spawn job /expanse/lustre/projects/osu123/naglemi/SKAT_testing/Results_transfGWAS//job-shoot_transformation_PC2-uv_resid-1323_cohort_mincount1_defaultmissingrates_Chr6Pt2of4-PConly/pheno-shoot_transformation_PC2-uv_resid.header.pheno-scaff-1323_cohort_mincount1_defaultmissingrates_Chr6Pt2of4.snp.pass.traw.gz.csv\n",
      "\n"
     ]
    },
    {
     "name": "stdout",
     "output_type": "stream",
     "text": [
      "[1] \"2022-10-15 02:40:25 PDT\"\n",
      "[1] \"Not skipping...\"\n",
      "[1] \"2022-10-15 02:40:25 PDT\"\n",
      "\n",
      "\n"
     ]
    },
    {
     "name": "stderr",
     "output_type": "stream",
     "text": [
      "Will spawn job /expanse/lustre/projects/osu123/naglemi/SKAT_testing/Results_transfGWAS//job-shoot_transformation_PC2-uv_resid-1323_cohort_mincount1_defaultmissingrates_Chr6Pt3of4-PConly/pheno-shoot_transformation_PC2-uv_resid.header.pheno-scaff-1323_cohort_mincount1_defaultmissingrates_Chr6Pt3of4.snp.pass.traw.gz.csv\n",
      "\n"
     ]
    },
    {
     "name": "stdout",
     "output_type": "stream",
     "text": [
      "[1] \"2022-10-15 02:45:25 PDT\"\n",
      "[1] \"Not skipping...\"\n",
      "[1] \"2022-10-15 02:45:25 PDT\"\n",
      "\n",
      "\n"
     ]
    },
    {
     "name": "stderr",
     "output_type": "stream",
     "text": [
      "Will spawn job /expanse/lustre/projects/osu123/naglemi/SKAT_testing/Results_transfGWAS//job-shoot_transformation_PC2-uv_resid-1323_cohort_mincount1_defaultmissingrates_Chr6Pt4of4-PConly/pheno-shoot_transformation_PC2-uv_resid.header.pheno-scaff-1323_cohort_mincount1_defaultmissingrates_Chr6Pt4of4.snp.pass.traw.gz.csv\n",
      "\n"
     ]
    },
    {
     "name": "stdout",
     "output_type": "stream",
     "text": [
      "[1] \"2022-10-15 02:50:25 PDT\"\n",
      "[1] \"Not skipping...\"\n",
      "[1] \"2022-10-15 02:50:25 PDT\"\n",
      "\n",
      "\n"
     ]
    },
    {
     "name": "stderr",
     "output_type": "stream",
     "text": [
      "Will spawn job /expanse/lustre/projects/osu123/naglemi/SKAT_testing/Results_transfGWAS//job-shoot_transformation_PC2-uv_resid-1323_cohort_mincount1_defaultmissingrates_Chr7Pt1of2-PConly/pheno-shoot_transformation_PC2-uv_resid.header.pheno-scaff-1323_cohort_mincount1_defaultmissingrates_Chr7Pt1of2.snp.pass.traw.gz.csv\n",
      "\n"
     ]
    },
    {
     "name": "stdout",
     "output_type": "stream",
     "text": [
      "[1] \"2022-10-15 02:55:26 PDT\"\n",
      "[1] \"Not skipping...\"\n",
      "[1] \"2022-10-15 02:55:26 PDT\"\n",
      "\n",
      "\n"
     ]
    },
    {
     "name": "stderr",
     "output_type": "stream",
     "text": [
      "Will spawn job /expanse/lustre/projects/osu123/naglemi/SKAT_testing/Results_transfGWAS//job-shoot_transformation_PC2-uv_resid-1323_cohort_mincount1_defaultmissingrates_Chr7Pt2of2-PConly/pheno-shoot_transformation_PC2-uv_resid.header.pheno-scaff-1323_cohort_mincount1_defaultmissingrates_Chr7Pt2of2.snp.pass.traw.gz.csv\n",
      "\n"
     ]
    },
    {
     "name": "stdout",
     "output_type": "stream",
     "text": [
      "[1] \"2022-10-15 03:00:26 PDT\"\n",
      "[1] \"Not skipping...\"\n",
      "[1] \"2022-10-15 03:00:26 PDT\"\n",
      "\n",
      "\n"
     ]
    },
    {
     "name": "stderr",
     "output_type": "stream",
     "text": [
      "Will spawn job /expanse/lustre/projects/osu123/naglemi/SKAT_testing/Results_transfGWAS//job-shoot_transformation_PC2-uv_resid-1323_cohort_mincount1_defaultmissingrates_Chr8Pt1of2-PConly/pheno-shoot_transformation_PC2-uv_resid.header.pheno-scaff-1323_cohort_mincount1_defaultmissingrates_Chr8Pt1of2.snp.pass.traw.gz.csv\n",
      "\n"
     ]
    },
    {
     "name": "stdout",
     "output_type": "stream",
     "text": [
      "[1] \"2022-10-15 03:05:26 PDT\"\n",
      "[1] \"Not skipping...\"\n",
      "[1] \"2022-10-15 03:05:26 PDT\"\n",
      "\n",
      "\n"
     ]
    },
    {
     "name": "stderr",
     "output_type": "stream",
     "text": [
      "Will spawn job /expanse/lustre/projects/osu123/naglemi/SKAT_testing/Results_transfGWAS//job-shoot_transformation_PC2-uv_resid-1323_cohort_mincount1_defaultmissingrates_Chr8Pt2of2-PConly/pheno-shoot_transformation_PC2-uv_resid.header.pheno-scaff-1323_cohort_mincount1_defaultmissingrates_Chr8Pt2of2.snp.pass.traw.gz.csv\n",
      "\n"
     ]
    },
    {
     "name": "stdout",
     "output_type": "stream",
     "text": [
      "[1] \"2022-10-15 03:10:26 PDT\"\n",
      "[1] \"Not skipping...\"\n",
      "[1] \"2022-10-15 03:10:26 PDT\"\n",
      "\n",
      "\n"
     ]
    },
    {
     "name": "stderr",
     "output_type": "stream",
     "text": [
      "Will spawn job /expanse/lustre/projects/osu123/naglemi/SKAT_testing/Results_transfGWAS//job-shoot_transformation_PC2-uv_resid-1323_cohort_mincount1_defaultmissingrates_Chr9Pt1of2-PConly/pheno-shoot_transformation_PC2-uv_resid.header.pheno-scaff-1323_cohort_mincount1_defaultmissingrates_Chr9Pt1of2.snp.pass.traw.gz.csv\n",
      "\n"
     ]
    },
    {
     "name": "stdout",
     "output_type": "stream",
     "text": [
      "[1] \"2022-10-15 03:15:26 PDT\"\n",
      "[1] \"Not skipping...\"\n",
      "[1] \"2022-10-15 03:15:27 PDT\"\n",
      "\n",
      "\n"
     ]
    },
    {
     "name": "stderr",
     "output_type": "stream",
     "text": [
      "There already exists output for /expanse/lustre/projects/osu123/naglemi/SKAT_testing/Results_transfGWAS//job-shoot_transformation_PC2-uv_resid-1323_cohort_mincount1_defaultmissingrates_Chr9Pt2of2-PConly/pheno-shoot_transformation_PC2-uv_resid.header.pheno-scaff-1323_cohort_mincount1_defaultmissingrates_Chr9Pt2of2.snp.pass.traw.gz.csv\n",
      "We will skip this\n",
      "\n"
     ]
    }
   ],
   "source": [
    "for(phenotype in pheno_list){\n",
    "    for(covariate in covariate_list){\n",
    "            for(scaffold in scaffold_list){\n",
    "                \n",
    "                job_id <- paste0(\"job-\", baseprefix(phenotype),\n",
    "                                 \"-\", baseprefix(scaffold),\n",
    "                                 \"-\", baseprefix(covariate))\n",
    "                \n",
    "                if(!dir.exists(\".job\")) dir.create(\".job\")\n",
    "                \n",
    "                specific_output_dir <- paste0(output_dir,\n",
    "                                              \"/\",\n",
    "                                              job_id)\n",
    "                \n",
    "                output_basename <- paste0(specific_output_dir, \"/pheno-\",\n",
    "                            basename(phenotype),\n",
    "                            \"-scaff-\",\n",
    "                            basename(scaffold),\n",
    "                                        \".csv\")\n",
    "                \n",
    "                if(file.exists(output_basename)){\n",
    "                    message(paste(\"There already exists output for\", output_basename), \"\\nWe will skip this\")\n",
    "                    next\n",
    "                }\n",
    "                \n",
    "                if(!file.exists(output_basename)){\n",
    "                    message(paste(\"Will spawn job\", output_basename))\n",
    "                    print(Sys.time())\n",
    "                }\n",
    "                \n",
    "                print(\"Not skipping...\")\n",
    "                sink(paste0(\".job/\", job_id, \".job\"))\n",
    "                \n",
    "                call <- paste0(\"Rscript \", source_path, \"/wrappers/mtmcskat_wrapper.R\",\n",
    "                              \" --phenodata=\", phenotype,\n",
    "                              \" --covariates=\", covariate,\n",
    "                              \" --raw_file_path=\", scaffold,\n",
    "                              \" --window_size=\", window_size,\n",
    "                              \" --window_shift=\", window_shift,\n",
    "                              \" --output_dir=\", output_dir,\n",
    "                              \" --pre_allocated_dir=\", pre_allocated_dir,\n",
    "                              \" --job_id=\", job_id,\n",
    "                              \" --desired_sig_figs=\", desired_sig_figs,\n",
    "                              \" --min_accuracy=\", min_accuracy,\n",
    "                              \" --max_accuracy=\", max_accuracy,\n",
    "                              \" --plot=\", 0,\n",
    "                              \" --RAM=\", 64000000000,\n",
    "                              \" --n_thread=\", n_thread,\n",
    "                              \" --top_N=\", top_N,\n",
    "                              \" --missing_cutoff=\", missing_cutoff)\n",
    "                \n",
    "                \n",
    "                \n",
    "                cat(\"#!/bin/bash\\n\")\n",
    "                cat(\"#SBATCH --cpus-per-task=24\\n\")\n",
    "                cat(\"#SBATCH --ntasks-per-node=1\\n\")\n",
    "                cat(\"#SBATCH --nodes=1\\n\")\n",
    "                cat(\"#SBATCH --partition=compute\\n\")\n",
    "                cat(paste0(\"#SBATCH --job-name=\", job_id, \"\\n\"))\n",
    "                cat(paste0(\"#SBATCH \", \"--output=.job/slurm_\", job_id, \".out\\n\"))\n",
    "                cat(\"#SBATCH --time=2:00:00\\n\")\n",
    "                cat(paste0(\"#SBATCH -A \", project, \"\\n\"))\n",
    "                cat(\"export OMP_NUM_THREADS=$SLURM_CPUS_PER_TASK\\n\")\n",
    "                #cat(paste0(\"conda activate \", myenv, \"\\n\"))\n",
    "                cat(call)\n",
    "                \n",
    "                sink()\n",
    "                \n",
    "                system(paste(\"sbatch\",\n",
    "                             paste0(\".job/\",job_id,\".job\")))\n",
    "                \n",
    "                #print(\"Start sleeping at...\")\n",
    "                print(Sys.time())\n",
    "                Sys.sleep(300)\n",
    "                cat(\"\\n\\n\")\n",
    "        }\n",
    "    }\n",
    "}"
   ]
  },
  {
   "cell_type": "markdown",
   "id": "coral-pleasure",
   "metadata": {
    "tags": []
   },
   "source": [
    "## Notes"
   ]
  },
  {
   "cell_type": "markdown",
   "id": "instructional-keyboard",
   "metadata": {
    "tags": []
   },
   "source": [
    "Ran out of memory the first time, during resampling"
   ]
  },
  {
   "cell_type": "markdown",
   "id": "appreciated-traveler",
   "metadata": {
    "tags": []
   },
   "source": [
    "Changed RAM parameter to 64000000000, changed `wiggle_factor` to 10, wiped pre-allocated windows."
   ]
  },
  {
   "cell_type": "markdown",
   "id": "established-dakota",
   "metadata": {
    "tags": []
   },
   "source": [
    "Second time, ran out of memory during mtskat."
   ]
  },
  {
   "cell_type": "markdown",
   "id": "conservative-instrument",
   "metadata": {
    "tags": []
   },
   "source": [
    "Output below copied from `slurm_4294967294.out` (backed up as `slurm_4294967294_stashed.out`)"
   ]
  },
  {
   "cell_type": "raw",
   "id": "ethical-aruba",
   "metadata": {
    "tags": []
   },
   "source": [
    "... \n",
    "No SNPs within 3kb window with center of 19595500\n",
    "No SNPs within 3kb window with center of 19596500\n",
    "No SNPs within 3kb window with center of 19597500\n",
    "Took 1662.489 seconds to allocate pos, SNP data structure\n",
    "Pre-allocated SNP data saved to /oasis/projects/nsf/osu123/naglemi/SKAT_testing/new_pre_allocated/1323_cohort_mincount1_defaultmissingrates_Chr10.snp.pass.traw.3000bp_win.rds \n",
    "\n",
    "[1] \"Pre-allocated SNP window data takes up 34097.641848 MB\\n\"\n",
    "2021-04-14 03:26:06 - Chunking list with 22,580 SNP windows into blocks with no more than 941 SNP windows each\n",
    "...resulting in 24 blocks\n",
    "Error in if (grepl(\"^[1-9]$\", res)) return(as.integer(res)) : \n",
    "  argument is of length zero\n",
    "Calls: MTMCSKAT_workflow ... future_xapply -> future -> makeFuture -> availableCores -> getNproc\n",
    "In addition: Warning message:\n",
    "104  samples have either missing phenotype or missing covariates. They are excluded from the analysis! \n",
    "Execution halted\n",
    "Warning message:\n",
    "system call failed: Cannot allocate memory "
   ]
  },
  {
   "cell_type": "markdown",
   "id": "potential-appointment",
   "metadata": {
    "tags": []
   },
   "source": [
    "Does this out-of-memory issue only happen on occasions when the scaffold is not pre-allocated? Try re-running the same batch script to find out."
   ]
  },
  {
   "cell_type": "markdown",
   "id": "acquired-manor",
   "metadata": {
    "tags": []
   },
   "source": [
    "Third attempt, got error easily fixed in commit 00ac4120"
   ]
  },
  {
   "cell_type": "raw",
   "id": "incident-sussex",
   "metadata": {
    "tags": []
   },
   "source": [
    "Data structure already exists. Read in from: /oasis/projects/nsf/osu123/naglemi/SKAT_testing/new_pre_allocated/1323_cohort_mincount1_d\n",
    "efaultmissingrates_Chr10.snp.pass.traw.3000bp_win.rds\n",
    "\n",
    "[1] \"Pre-allocated SNP window data takes up 34097.641848 MB\\n\"\n",
    "2021-04-14 17:54:35 - Chunking list with 22,580 SNP windows into blocks with no more than 941 SNP windows each\n",
    "...resulting in 24 blocks\n",
    "Finished parallel run in 1151.24s\n",
    "\n",
    "Max # leading 0s is: 4\n",
    "\n",
    "User-defined accuracy limit is 10^-5.\n",
    "This level of accuracy may be more than the accuracy needed to calculate empirical p-values since model p-values from mtskat have no m\n",
    "ore than 4 leading zeros\n",
    "\n",
    "Error in RAM/wiggle_factor : non-numeric argument to binary operator\n",
    "Calls: MTMCSKAT_workflow -> calculate_max_perm_per_core -> size_RAM_wiggle\n",
    "In addition: There were 50 or more warnings (use warnings() to see the first 50)"
   ]
  },
  {
   "cell_type": "markdown",
   "id": "marked-material",
   "metadata": {
    "tags": []
   },
   "source": [
    "Runs out of memory during mtskat if running on whole Chr 7. Try again with split chromosomes, including for Chr 1, the largest. Split into halves only. If still too big, try again with quarters."
   ]
  },
  {
   "cell_type": "markdown",
   "id": "optional-nightlife",
   "metadata": {},
   "source": [
    "New weird error seen 10.05.22:"
   ]
  },
  {
   "cell_type": "raw",
   "id": "typical-triple",
   "metadata": {},
   "source": [
    "Warning message in file(file, if (append) \"a\" else \"w\"):\n",
    "“cannot open file '.job/job-shoot_transformation_PC2-uv_resid-1323_cohort_mincount1_defaultmissingrates_Chr13Pt2of2-PConly.job': Cannot send after transport endpoint shutdown”\n",
    "Error in file(file, if (append) \"a\" else \"w\"): cannot open the connection\n",
    "Traceback:\n",
    "\n",
    "1. sink(paste0(\".job/\", job_id, \".job\"))\n",
    "2. file(file, if (append) \"a\" else \"w\")"
   ]
  },
  {
   "cell_type": "code",
   "execution_count": null,
   "id": "incorrect-fashion",
   "metadata": {},
   "outputs": [],
   "source": []
  }
 ],
 "metadata": {
  "kernelspec": {
   "display_name": "R",
   "language": "R",
   "name": "ir"
  },
  "language_info": {
   "codemirror_mode": "r",
   "file_extension": ".r",
   "mimetype": "text/x-r-source",
   "name": "R",
   "pygments_lexer": "r",
   "version": "3.6.1"
  }
 },
 "nbformat": 4,
 "nbformat_minor": 5
}
